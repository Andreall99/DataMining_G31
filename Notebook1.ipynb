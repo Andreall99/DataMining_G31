{
 "cells": [
  {
   "cell_type": "markdown",
   "metadata": {},
   "source": [
    "# Notebook Overview\n",
    "\n",
    "This Jupyter Notebook performs an extensive analysis of a customer dataset from the DM2425_ABCDEats dataset. The main objectives of the notebook are to clean the data, generate new features, and perform exploratory data analysis (EDA) to gain insights into customer behavior.\n",
    "\n",
    "## Steps and Analysis\n",
    "\n",
    "1. **Importing Packages and Data**:\n",
    "    - Essential libraries such as `pandas`, `numpy`, `matplotlib.pyplot`, and `seaborn` are imported.\n",
    "    - The dataset is loaded from the file `DM2425_ABCDEats_DATASET.csv` into a DataFrame `df`.\n",
    "\n",
    "2. **Initial Data Exploration**:\n",
    "    - The unique values in the `customer_region` column are examined.\n",
    "    - The number of rows lost by removing rows with NaN values is calculated.\n",
    "\n",
    "3. **Data Cleaning**:\n",
    "    - The initial shape of the DataFrame is stored in `s1`.\n",
    "    - Rows with NaN values are dropped, and the new shape is stored in `s2`.\n",
    "    - The difference in the number of rows before and after dropping NaNs is computed.\n",
    "\n",
    "4. **Descriptive Statistics**:\n",
    "    - Key statistics of the DataFrame are summarized using the `describe()` method.\n",
    "\n",
    "5. **Feature Engineering**:\n",
    "    - New features are added to the DataFrame:\n",
    "        - `delta_day_order`: Time passed between the first and last order.\n",
    "        - `tot_value_cui`: Total amount of money spent on the app across all options.\n",
    "        - `order_freq`: Order frequency.\n",
    "        - `value_freq`: Value frequency.\n",
    "        - `avg_order_value`: Average order value.\n",
    "    - These new features are stored in the list `new_fetures_list`.\n",
    "\n",
    "6. **Data Validation**:\n",
    "    - The presence of NaN and infinite values in the new features is checked and summarized in `df_naninf`.\n",
    "\n",
    "7. **Exploratory Data Analysis (EDA)**:\n",
    "    - Key statistics of the new features are summarized.\n",
    "    - The distribution of customer age is analyzed.\n",
    "    - The relationship between customer age and average order value is visualized.\n",
    "    - Various plots are created to explore the relationship between customer age and other variables such as vendor count and product count.\n",
    "\n",
    "8. **Additional Analysis**:\n",
    "    - Distinct combinations of `is_chain` and `product_count` are grouped and analyzed.\n",
    "    - The mean vendor count by customer age is plotted.\n",
    "\n",
    "This notebook provides a comprehensive analysis of customer behavior, helping to identify key patterns and insights that can be used for further business decisions."
   ]
  },
  {
   "cell_type": "markdown",
   "metadata": {},
   "source": [
    "## importing packages and data\n"
   ]
  },
  {
   "cell_type": "code",
   "execution_count": 1,
   "metadata": {},
   "outputs": [],
   "source": [
    "import pandas as pd\n",
    "import numpy as np  \n",
    "import matplotlib.pyplot as plt\n",
    "import seaborn as sns \n"
   ]
  },
  {
   "cell_type": "code",
   "execution_count": 2,
   "metadata": {},
   "outputs": [
    {
     "data": {
      "text/html": [
       "<div>\n",
       "<style scoped>\n",
       "    .dataframe tbody tr th:only-of-type {\n",
       "        vertical-align: middle;\n",
       "    }\n",
       "\n",
       "    .dataframe tbody tr th {\n",
       "        vertical-align: top;\n",
       "    }\n",
       "\n",
       "    .dataframe thead th {\n",
       "        text-align: right;\n",
       "    }\n",
       "</style>\n",
       "<table border=\"1\" class=\"dataframe\">\n",
       "  <thead>\n",
       "    <tr style=\"text-align: right;\">\n",
       "      <th></th>\n",
       "      <th>customer_id</th>\n",
       "      <th>customer_region</th>\n",
       "      <th>customer_age</th>\n",
       "      <th>vendor_count</th>\n",
       "      <th>product_count</th>\n",
       "      <th>is_chain</th>\n",
       "      <th>first_order</th>\n",
       "      <th>last_order</th>\n",
       "      <th>last_promo</th>\n",
       "      <th>payment_method</th>\n",
       "      <th>...</th>\n",
       "      <th>HR_14</th>\n",
       "      <th>HR_15</th>\n",
       "      <th>HR_16</th>\n",
       "      <th>HR_17</th>\n",
       "      <th>HR_18</th>\n",
       "      <th>HR_19</th>\n",
       "      <th>HR_20</th>\n",
       "      <th>HR_21</th>\n",
       "      <th>HR_22</th>\n",
       "      <th>HR_23</th>\n",
       "    </tr>\n",
       "  </thead>\n",
       "  <tbody>\n",
       "    <tr>\n",
       "      <th>0</th>\n",
       "      <td>1b8f824d5e</td>\n",
       "      <td>2360</td>\n",
       "      <td>18.0</td>\n",
       "      <td>2</td>\n",
       "      <td>5</td>\n",
       "      <td>1</td>\n",
       "      <td>0.0</td>\n",
       "      <td>1</td>\n",
       "      <td>DELIVERY</td>\n",
       "      <td>DIGI</td>\n",
       "      <td>...</td>\n",
       "      <td>0</td>\n",
       "      <td>0</td>\n",
       "      <td>0</td>\n",
       "      <td>0</td>\n",
       "      <td>2</td>\n",
       "      <td>0</td>\n",
       "      <td>0</td>\n",
       "      <td>0</td>\n",
       "      <td>0</td>\n",
       "      <td>0</td>\n",
       "    </tr>\n",
       "    <tr>\n",
       "      <th>1</th>\n",
       "      <td>5d272b9dcb</td>\n",
       "      <td>8670</td>\n",
       "      <td>17.0</td>\n",
       "      <td>2</td>\n",
       "      <td>2</td>\n",
       "      <td>2</td>\n",
       "      <td>0.0</td>\n",
       "      <td>1</td>\n",
       "      <td>DISCOUNT</td>\n",
       "      <td>DIGI</td>\n",
       "      <td>...</td>\n",
       "      <td>0</td>\n",
       "      <td>0</td>\n",
       "      <td>0</td>\n",
       "      <td>0</td>\n",
       "      <td>0</td>\n",
       "      <td>0</td>\n",
       "      <td>0</td>\n",
       "      <td>0</td>\n",
       "      <td>0</td>\n",
       "      <td>0</td>\n",
       "    </tr>\n",
       "    <tr>\n",
       "      <th>2</th>\n",
       "      <td>f6d1b2ba63</td>\n",
       "      <td>4660</td>\n",
       "      <td>38.0</td>\n",
       "      <td>1</td>\n",
       "      <td>2</td>\n",
       "      <td>2</td>\n",
       "      <td>0.0</td>\n",
       "      <td>1</td>\n",
       "      <td>DISCOUNT</td>\n",
       "      <td>CASH</td>\n",
       "      <td>...</td>\n",
       "      <td>0</td>\n",
       "      <td>0</td>\n",
       "      <td>0</td>\n",
       "      <td>0</td>\n",
       "      <td>0</td>\n",
       "      <td>0</td>\n",
       "      <td>0</td>\n",
       "      <td>0</td>\n",
       "      <td>0</td>\n",
       "      <td>0</td>\n",
       "    </tr>\n",
       "    <tr>\n",
       "      <th>3</th>\n",
       "      <td>180c632ed8</td>\n",
       "      <td>4660</td>\n",
       "      <td>NaN</td>\n",
       "      <td>2</td>\n",
       "      <td>3</td>\n",
       "      <td>1</td>\n",
       "      <td>0.0</td>\n",
       "      <td>2</td>\n",
       "      <td>DELIVERY</td>\n",
       "      <td>DIGI</td>\n",
       "      <td>...</td>\n",
       "      <td>1</td>\n",
       "      <td>0</td>\n",
       "      <td>0</td>\n",
       "      <td>0</td>\n",
       "      <td>0</td>\n",
       "      <td>0</td>\n",
       "      <td>0</td>\n",
       "      <td>0</td>\n",
       "      <td>0</td>\n",
       "      <td>0</td>\n",
       "    </tr>\n",
       "    <tr>\n",
       "      <th>4</th>\n",
       "      <td>4eb37a6705</td>\n",
       "      <td>4660</td>\n",
       "      <td>20.0</td>\n",
       "      <td>2</td>\n",
       "      <td>5</td>\n",
       "      <td>0</td>\n",
       "      <td>0.0</td>\n",
       "      <td>2</td>\n",
       "      <td>-</td>\n",
       "      <td>DIGI</td>\n",
       "      <td>...</td>\n",
       "      <td>0</td>\n",
       "      <td>0</td>\n",
       "      <td>0</td>\n",
       "      <td>0</td>\n",
       "      <td>0</td>\n",
       "      <td>0</td>\n",
       "      <td>0</td>\n",
       "      <td>0</td>\n",
       "      <td>0</td>\n",
       "      <td>0</td>\n",
       "    </tr>\n",
       "  </tbody>\n",
       "</table>\n",
       "<p>5 rows × 56 columns</p>\n",
       "</div>"
      ],
      "text/plain": [
       "  customer_id customer_region  customer_age  vendor_count  product_count  \\\n",
       "0  1b8f824d5e            2360          18.0             2              5   \n",
       "1  5d272b9dcb            8670          17.0             2              2   \n",
       "2  f6d1b2ba63            4660          38.0             1              2   \n",
       "3  180c632ed8            4660           NaN             2              3   \n",
       "4  4eb37a6705            4660          20.0             2              5   \n",
       "\n",
       "   is_chain  first_order  last_order last_promo payment_method  ...  HR_14  \\\n",
       "0         1          0.0           1   DELIVERY           DIGI  ...      0   \n",
       "1         2          0.0           1   DISCOUNT           DIGI  ...      0   \n",
       "2         2          0.0           1   DISCOUNT           CASH  ...      0   \n",
       "3         1          0.0           2   DELIVERY           DIGI  ...      1   \n",
       "4         0          0.0           2          -           DIGI  ...      0   \n",
       "\n",
       "   HR_15  HR_16  HR_17  HR_18  HR_19  HR_20  HR_21  HR_22  HR_23  \n",
       "0      0      0      0      2      0      0      0      0      0  \n",
       "1      0      0      0      0      0      0      0      0      0  \n",
       "2      0      0      0      0      0      0      0      0      0  \n",
       "3      0      0      0      0      0      0      0      0      0  \n",
       "4      0      0      0      0      0      0      0      0      0  \n",
       "\n",
       "[5 rows x 56 columns]"
      ]
     },
     "execution_count": 2,
     "metadata": {},
     "output_type": "execute_result"
    }
   ],
   "source": [
    "file_path = 'DM2425_ABCDEats_DATASET.csv'\n",
    "df = pd.read_csv(file_path)\n",
    "df.head()"
   ]
  },
  {
   "cell_type": "code",
   "execution_count": 13,
   "metadata": {},
   "outputs": [
    {
     "data": {
      "text/plain": [
       "array(['2360', '8670', '4660', '2440', '-', '4140', '2490', '8370',\n",
       "       '8550'], dtype=object)"
      ]
     },
     "execution_count": 13,
     "metadata": {},
     "output_type": "execute_result"
    }
   ],
   "source": [
    "df['customer_region'].unique()"
   ]
  },
  {
   "cell_type": "markdown",
   "metadata": {},
   "source": [
    "### how many rows do I looose by popping NANs?"
   ]
  },
  {
   "cell_type": "code",
   "execution_count": 3,
   "metadata": {},
   "outputs": [],
   "source": [
    "s1 = df.shape"
   ]
  },
  {
   "cell_type": "code",
   "execution_count": 4,
   "metadata": {},
   "outputs": [],
   "source": [
    "noNaN_df = df.dropna()\n",
    "s2 = noNaN_df.shape"
   ]
  },
  {
   "cell_type": "code",
   "execution_count": 5,
   "metadata": {},
   "outputs": [
    {
     "data": {
      "text/plain": [
       "1968"
      ]
     },
     "execution_count": 5,
     "metadata": {},
     "output_type": "execute_result"
    }
   ],
   "source": [
    "s1[0]-s2[0]"
   ]
  },
  {
   "cell_type": "markdown",
   "metadata": {},
   "source": [
    "## Summarise key statistics for the data frame"
   ]
  },
  {
   "cell_type": "code",
   "execution_count": 6,
   "metadata": {},
   "outputs": [
    {
     "data": {
      "text/html": [
       "<div>\n",
       "<style scoped>\n",
       "    .dataframe tbody tr th:only-of-type {\n",
       "        vertical-align: middle;\n",
       "    }\n",
       "\n",
       "    .dataframe tbody tr th {\n",
       "        vertical-align: top;\n",
       "    }\n",
       "\n",
       "    .dataframe thead th {\n",
       "        text-align: right;\n",
       "    }\n",
       "</style>\n",
       "<table border=\"1\" class=\"dataframe\">\n",
       "  <thead>\n",
       "    <tr style=\"text-align: right;\">\n",
       "      <th></th>\n",
       "      <th>customer_age</th>\n",
       "      <th>vendor_count</th>\n",
       "      <th>product_count</th>\n",
       "      <th>is_chain</th>\n",
       "      <th>first_order</th>\n",
       "      <th>last_order</th>\n",
       "      <th>CUI_American</th>\n",
       "      <th>CUI_Asian</th>\n",
       "      <th>CUI_Beverages</th>\n",
       "      <th>CUI_Cafe</th>\n",
       "      <th>...</th>\n",
       "      <th>HR_14</th>\n",
       "      <th>HR_15</th>\n",
       "      <th>HR_16</th>\n",
       "      <th>HR_17</th>\n",
       "      <th>HR_18</th>\n",
       "      <th>HR_19</th>\n",
       "      <th>HR_20</th>\n",
       "      <th>HR_21</th>\n",
       "      <th>HR_22</th>\n",
       "      <th>HR_23</th>\n",
       "    </tr>\n",
       "  </thead>\n",
       "  <tbody>\n",
       "    <tr>\n",
       "      <th>count</th>\n",
       "      <td>31161.000000</td>\n",
       "      <td>31888.000000</td>\n",
       "      <td>31888.000000</td>\n",
       "      <td>31888.000000</td>\n",
       "      <td>31782.000000</td>\n",
       "      <td>31888.000000</td>\n",
       "      <td>31888.000000</td>\n",
       "      <td>31888.000000</td>\n",
       "      <td>31888.000000</td>\n",
       "      <td>31888.000000</td>\n",
       "      <td>...</td>\n",
       "      <td>31888.000000</td>\n",
       "      <td>31888.000000</td>\n",
       "      <td>31888.000000</td>\n",
       "      <td>31888.000000</td>\n",
       "      <td>31888.000000</td>\n",
       "      <td>31888.000000</td>\n",
       "      <td>31888.000000</td>\n",
       "      <td>31888.000000</td>\n",
       "      <td>31888.000000</td>\n",
       "      <td>31888.000000</td>\n",
       "    </tr>\n",
       "    <tr>\n",
       "      <th>mean</th>\n",
       "      <td>27.506499</td>\n",
       "      <td>3.102609</td>\n",
       "      <td>5.668245</td>\n",
       "      <td>2.818866</td>\n",
       "      <td>28.478604</td>\n",
       "      <td>63.675521</td>\n",
       "      <td>4.880438</td>\n",
       "      <td>9.960451</td>\n",
       "      <td>2.300633</td>\n",
       "      <td>0.801163</td>\n",
       "      <td>...</td>\n",
       "      <td>0.215630</td>\n",
       "      <td>0.277032</td>\n",
       "      <td>0.356435</td>\n",
       "      <td>0.390962</td>\n",
       "      <td>0.336961</td>\n",
       "      <td>0.245610</td>\n",
       "      <td>0.142812</td>\n",
       "      <td>0.071155</td>\n",
       "      <td>0.048263</td>\n",
       "      <td>0.045189</td>\n",
       "    </tr>\n",
       "    <tr>\n",
       "      <th>std</th>\n",
       "      <td>7.160898</td>\n",
       "      <td>2.771587</td>\n",
       "      <td>6.957287</td>\n",
       "      <td>3.977529</td>\n",
       "      <td>24.109086</td>\n",
       "      <td>23.226123</td>\n",
       "      <td>11.654018</td>\n",
       "      <td>23.564351</td>\n",
       "      <td>8.479734</td>\n",
       "      <td>6.427132</td>\n",
       "      <td>...</td>\n",
       "      <td>0.599006</td>\n",
       "      <td>0.738162</td>\n",
       "      <td>0.874449</td>\n",
       "      <td>0.943721</td>\n",
       "      <td>0.893949</td>\n",
       "      <td>0.795296</td>\n",
       "      <td>0.586529</td>\n",
       "      <td>0.348536</td>\n",
       "      <td>0.298265</td>\n",
       "      <td>0.282006</td>\n",
       "    </tr>\n",
       "    <tr>\n",
       "      <th>min</th>\n",
       "      <td>15.000000</td>\n",
       "      <td>0.000000</td>\n",
       "      <td>0.000000</td>\n",
       "      <td>0.000000</td>\n",
       "      <td>0.000000</td>\n",
       "      <td>0.000000</td>\n",
       "      <td>0.000000</td>\n",
       "      <td>0.000000</td>\n",
       "      <td>0.000000</td>\n",
       "      <td>0.000000</td>\n",
       "      <td>...</td>\n",
       "      <td>0.000000</td>\n",
       "      <td>0.000000</td>\n",
       "      <td>0.000000</td>\n",
       "      <td>0.000000</td>\n",
       "      <td>0.000000</td>\n",
       "      <td>0.000000</td>\n",
       "      <td>0.000000</td>\n",
       "      <td>0.000000</td>\n",
       "      <td>0.000000</td>\n",
       "      <td>0.000000</td>\n",
       "    </tr>\n",
       "    <tr>\n",
       "      <th>25%</th>\n",
       "      <td>23.000000</td>\n",
       "      <td>1.000000</td>\n",
       "      <td>2.000000</td>\n",
       "      <td>1.000000</td>\n",
       "      <td>7.000000</td>\n",
       "      <td>49.000000</td>\n",
       "      <td>0.000000</td>\n",
       "      <td>0.000000</td>\n",
       "      <td>0.000000</td>\n",
       "      <td>0.000000</td>\n",
       "      <td>...</td>\n",
       "      <td>0.000000</td>\n",
       "      <td>0.000000</td>\n",
       "      <td>0.000000</td>\n",
       "      <td>0.000000</td>\n",
       "      <td>0.000000</td>\n",
       "      <td>0.000000</td>\n",
       "      <td>0.000000</td>\n",
       "      <td>0.000000</td>\n",
       "      <td>0.000000</td>\n",
       "      <td>0.000000</td>\n",
       "    </tr>\n",
       "    <tr>\n",
       "      <th>50%</th>\n",
       "      <td>26.000000</td>\n",
       "      <td>2.000000</td>\n",
       "      <td>3.000000</td>\n",
       "      <td>2.000000</td>\n",
       "      <td>22.000000</td>\n",
       "      <td>70.000000</td>\n",
       "      <td>0.000000</td>\n",
       "      <td>0.000000</td>\n",
       "      <td>0.000000</td>\n",
       "      <td>0.000000</td>\n",
       "      <td>...</td>\n",
       "      <td>0.000000</td>\n",
       "      <td>0.000000</td>\n",
       "      <td>0.000000</td>\n",
       "      <td>0.000000</td>\n",
       "      <td>0.000000</td>\n",
       "      <td>0.000000</td>\n",
       "      <td>0.000000</td>\n",
       "      <td>0.000000</td>\n",
       "      <td>0.000000</td>\n",
       "      <td>0.000000</td>\n",
       "    </tr>\n",
       "    <tr>\n",
       "      <th>75%</th>\n",
       "      <td>31.000000</td>\n",
       "      <td>4.000000</td>\n",
       "      <td>7.000000</td>\n",
       "      <td>3.000000</td>\n",
       "      <td>45.000000</td>\n",
       "      <td>83.000000</td>\n",
       "      <td>5.660000</td>\n",
       "      <td>11.830000</td>\n",
       "      <td>0.000000</td>\n",
       "      <td>0.000000</td>\n",
       "      <td>...</td>\n",
       "      <td>0.000000</td>\n",
       "      <td>0.000000</td>\n",
       "      <td>0.000000</td>\n",
       "      <td>0.000000</td>\n",
       "      <td>0.000000</td>\n",
       "      <td>0.000000</td>\n",
       "      <td>0.000000</td>\n",
       "      <td>0.000000</td>\n",
       "      <td>0.000000</td>\n",
       "      <td>0.000000</td>\n",
       "    </tr>\n",
       "    <tr>\n",
       "      <th>max</th>\n",
       "      <td>80.000000</td>\n",
       "      <td>41.000000</td>\n",
       "      <td>269.000000</td>\n",
       "      <td>83.000000</td>\n",
       "      <td>90.000000</td>\n",
       "      <td>90.000000</td>\n",
       "      <td>280.210000</td>\n",
       "      <td>896.710000</td>\n",
       "      <td>229.220000</td>\n",
       "      <td>326.100000</td>\n",
       "      <td>...</td>\n",
       "      <td>13.000000</td>\n",
       "      <td>23.000000</td>\n",
       "      <td>22.000000</td>\n",
       "      <td>20.000000</td>\n",
       "      <td>24.000000</td>\n",
       "      <td>35.000000</td>\n",
       "      <td>36.000000</td>\n",
       "      <td>11.000000</td>\n",
       "      <td>15.000000</td>\n",
       "      <td>13.000000</td>\n",
       "    </tr>\n",
       "  </tbody>\n",
       "</table>\n",
       "<p>8 rows × 52 columns</p>\n",
       "</div>"
      ],
      "text/plain": [
       "       customer_age  vendor_count  product_count      is_chain   first_order  \\\n",
       "count  31161.000000  31888.000000   31888.000000  31888.000000  31782.000000   \n",
       "mean      27.506499      3.102609       5.668245      2.818866     28.478604   \n",
       "std        7.160898      2.771587       6.957287      3.977529     24.109086   \n",
       "min       15.000000      0.000000       0.000000      0.000000      0.000000   \n",
       "25%       23.000000      1.000000       2.000000      1.000000      7.000000   \n",
       "50%       26.000000      2.000000       3.000000      2.000000     22.000000   \n",
       "75%       31.000000      4.000000       7.000000      3.000000     45.000000   \n",
       "max       80.000000     41.000000     269.000000     83.000000     90.000000   \n",
       "\n",
       "         last_order  CUI_American     CUI_Asian  CUI_Beverages      CUI_Cafe  \\\n",
       "count  31888.000000  31888.000000  31888.000000   31888.000000  31888.000000   \n",
       "mean      63.675521      4.880438      9.960451       2.300633      0.801163   \n",
       "std       23.226123     11.654018     23.564351       8.479734      6.427132   \n",
       "min        0.000000      0.000000      0.000000       0.000000      0.000000   \n",
       "25%       49.000000      0.000000      0.000000       0.000000      0.000000   \n",
       "50%       70.000000      0.000000      0.000000       0.000000      0.000000   \n",
       "75%       83.000000      5.660000     11.830000       0.000000      0.000000   \n",
       "max       90.000000    280.210000    896.710000     229.220000    326.100000   \n",
       "\n",
       "       ...         HR_14         HR_15         HR_16         HR_17  \\\n",
       "count  ...  31888.000000  31888.000000  31888.000000  31888.000000   \n",
       "mean   ...      0.215630      0.277032      0.356435      0.390962   \n",
       "std    ...      0.599006      0.738162      0.874449      0.943721   \n",
       "min    ...      0.000000      0.000000      0.000000      0.000000   \n",
       "25%    ...      0.000000      0.000000      0.000000      0.000000   \n",
       "50%    ...      0.000000      0.000000      0.000000      0.000000   \n",
       "75%    ...      0.000000      0.000000      0.000000      0.000000   \n",
       "max    ...     13.000000     23.000000     22.000000     20.000000   \n",
       "\n",
       "              HR_18         HR_19         HR_20         HR_21         HR_22  \\\n",
       "count  31888.000000  31888.000000  31888.000000  31888.000000  31888.000000   \n",
       "mean       0.336961      0.245610      0.142812      0.071155      0.048263   \n",
       "std        0.893949      0.795296      0.586529      0.348536      0.298265   \n",
       "min        0.000000      0.000000      0.000000      0.000000      0.000000   \n",
       "25%        0.000000      0.000000      0.000000      0.000000      0.000000   \n",
       "50%        0.000000      0.000000      0.000000      0.000000      0.000000   \n",
       "75%        0.000000      0.000000      0.000000      0.000000      0.000000   \n",
       "max       24.000000     35.000000     36.000000     11.000000     15.000000   \n",
       "\n",
       "              HR_23  \n",
       "count  31888.000000  \n",
       "mean       0.045189  \n",
       "std        0.282006  \n",
       "min        0.000000  \n",
       "25%        0.000000  \n",
       "50%        0.000000  \n",
       "75%        0.000000  \n",
       "max       13.000000  \n",
       "\n",
       "[8 rows x 52 columns]"
      ]
     },
     "execution_count": 6,
     "metadata": {},
     "output_type": "execute_result"
    }
   ],
   "source": [
    "df.describe()"
   ]
  },
  {
   "cell_type": "markdown",
   "metadata": {},
   "source": [
    "## adding new key figures"
   ]
  },
  {
   "cell_type": "code",
   "execution_count": 7,
   "metadata": {},
   "outputs": [],
   "source": [
    "new_fetures_list = []"
   ]
  },
  {
   "cell_type": "markdown",
   "metadata": {},
   "source": [
    "### delta_day_order\n",
    "shows the time passed beween the first order and the last order\n",
    "-- note:\n",
    "we could adjust the parameter by using the highest day for the last order in the dataframe as today"
   ]
  },
  {
   "cell_type": "code",
   "execution_count": 8,
   "metadata": {},
   "outputs": [],
   "source": [
    "\n",
    "df['delta_day_order'] = df['last_order'] - df['first_order'] + 1\n",
    "new_fetures_list.append('delta_day_order')"
   ]
  },
  {
   "cell_type": "markdown",
   "metadata": {},
   "source": [
    "### tot_value_cui\n",
    "shows the total amunt of money spent on the app across all options"
   ]
  },
  {
   "cell_type": "code",
   "execution_count": 9,
   "metadata": {},
   "outputs": [],
   "source": [
    "cui_columns = [col for col in df.columns if col.startswith('CUI')]\n",
    "df['tot_value_cui'] = df[cui_columns].sum(axis=1)\n",
    "new_fetures_list.append('tot_value_cui')"
   ]
  },
  {
   "cell_type": "markdown",
   "metadata": {},
   "source": [
    "### frequencies and averages\n",
    "more insightful informations about our customers habits"
   ]
  },
  {
   "cell_type": "code",
   "execution_count": 10,
   "metadata": {},
   "outputs": [],
   "source": [
    "df['order_freq'] = df['product_count'] / df['delta_day_order']\n",
    "df['value_freq'] = df['tot_value_cui'] / df['delta_day_order']\n",
    "df['avg_order_value'] = df['tot_value_cui'] / df['product_count']\n",
    "\n",
    "new_fetures_list.append('order_freq')\n",
    "new_fetures_list.append('value_freq')\n",
    "new_fetures_list.append('avg_order_value')"
   ]
  },
  {
   "cell_type": "code",
   "execution_count": 11,
   "metadata": {},
   "outputs": [],
   "source": [
    "df['avg_order_value'] = np.where(df['product_count'] != 0, df['tot_value_cui'] / df['product_count'], 0)"
   ]
  },
  {
   "cell_type": "markdown",
   "metadata": {},
   "source": [
    "### our new features"
   ]
  },
  {
   "cell_type": "markdown",
   "metadata": {},
   "source": [
    "### check if I made a mess"
   ]
  },
  {
   "cell_type": "code",
   "execution_count": 21,
   "metadata": {},
   "outputs": [
    {
     "data": {
      "text/html": [
       "<div>\n",
       "<style scoped>\n",
       "    .dataframe tbody tr th:only-of-type {\n",
       "        vertical-align: middle;\n",
       "    }\n",
       "\n",
       "    .dataframe tbody tr th {\n",
       "        vertical-align: top;\n",
       "    }\n",
       "\n",
       "    .dataframe thead th {\n",
       "        text-align: right;\n",
       "    }\n",
       "</style>\n",
       "<table border=\"1\" class=\"dataframe\">\n",
       "  <thead>\n",
       "    <tr style=\"text-align: right;\">\n",
       "      <th></th>\n",
       "      <th>0</th>\n",
       "      <th>1</th>\n",
       "      <th>2</th>\n",
       "    </tr>\n",
       "  </thead>\n",
       "  <tbody>\n",
       "    <tr>\n",
       "      <th>0</th>\n",
       "      <td>delta_day_order</td>\n",
       "      <td>106</td>\n",
       "      <td>0</td>\n",
       "    </tr>\n",
       "    <tr>\n",
       "      <th>1</th>\n",
       "      <td>tot_value_cui</td>\n",
       "      <td>0</td>\n",
       "      <td>0</td>\n",
       "    </tr>\n",
       "    <tr>\n",
       "      <th>2</th>\n",
       "      <td>order_freq</td>\n",
       "      <td>106</td>\n",
       "      <td>0</td>\n",
       "    </tr>\n",
       "    <tr>\n",
       "      <th>3</th>\n",
       "      <td>value_freq</td>\n",
       "      <td>106</td>\n",
       "      <td>0</td>\n",
       "    </tr>\n",
       "    <tr>\n",
       "      <th>4</th>\n",
       "      <td>avg_order_value</td>\n",
       "      <td>0</td>\n",
       "      <td>0</td>\n",
       "    </tr>\n",
       "  </tbody>\n",
       "</table>\n",
       "</div>"
      ],
      "text/plain": [
       "                 0    1  2\n",
       "0  delta_day_order  106  0\n",
       "1    tot_value_cui    0  0\n",
       "2       order_freq  106  0\n",
       "3       value_freq  106  0\n",
       "4  avg_order_value    0  0"
      ]
     },
     "execution_count": 21,
     "metadata": {},
     "output_type": "execute_result"
    }
   ],
   "source": [
    "nan_inf_counts_list = []\n",
    "\n",
    "for new_feture in new_fetures_list:\n",
    "    nan_count = df[new_feture].isna().sum()\n",
    "    inf_count = df[new_feture].isin([np.inf, -np.inf]).sum()\n",
    "    nan_inf_counts = {\n",
    "        'feature:': new_feture,\n",
    "        'nan_count': nan_count,\n",
    "        'inf_count': inf_count\n",
    "    }\n",
    "    \n",
    "    nan_inf_counts_list.append((new_feture, nan_count, inf_count))\n",
    "    \n",
    "df_naninf = pd.DataFrame( nan_inf_counts_list)\n",
    "df_naninf"
   ]
  },
  {
   "cell_type": "code",
   "execution_count": 22,
   "metadata": {},
   "outputs": [
    {
     "data": {
      "text/html": [
       "<div>\n",
       "<style scoped>\n",
       "    .dataframe tbody tr th:only-of-type {\n",
       "        vertical-align: middle;\n",
       "    }\n",
       "\n",
       "    .dataframe tbody tr th {\n",
       "        vertical-align: top;\n",
       "    }\n",
       "\n",
       "    .dataframe thead th {\n",
       "        text-align: right;\n",
       "    }\n",
       "</style>\n",
       "<table border=\"1\" class=\"dataframe\">\n",
       "  <thead>\n",
       "    <tr style=\"text-align: right;\">\n",
       "      <th></th>\n",
       "      <th>delta_day_order</th>\n",
       "      <th>tot_value_cui</th>\n",
       "      <th>order_freq</th>\n",
       "      <th>value_freq</th>\n",
       "      <th>avg_order_value</th>\n",
       "    </tr>\n",
       "  </thead>\n",
       "  <tbody>\n",
       "    <tr>\n",
       "      <th>count</th>\n",
       "      <td>31782.000000</td>\n",
       "      <td>31888.000000</td>\n",
       "      <td>31782.000000</td>\n",
       "      <td>31782.000000</td>\n",
       "      <td>31888.000000</td>\n",
       "    </tr>\n",
       "    <tr>\n",
       "      <th>mean</th>\n",
       "      <td>36.409288</td>\n",
       "      <td>38.303043</td>\n",
       "      <td>0.471221</td>\n",
       "      <td>4.326917</td>\n",
       "      <td>7.538017</td>\n",
       "    </tr>\n",
       "    <tr>\n",
       "      <th>std</th>\n",
       "      <td>29.417128</td>\n",
       "      <td>46.412121</td>\n",
       "      <td>0.649079</td>\n",
       "      <td>8.002206</td>\n",
       "      <td>4.077059</td>\n",
       "    </tr>\n",
       "    <tr>\n",
       "      <th>min</th>\n",
       "      <td>1.000000</td>\n",
       "      <td>0.000000</td>\n",
       "      <td>0.000000</td>\n",
       "      <td>0.000000</td>\n",
       "      <td>0.000000</td>\n",
       "    </tr>\n",
       "    <tr>\n",
       "      <th>25%</th>\n",
       "      <td>4.000000</td>\n",
       "      <td>12.887500</td>\n",
       "      <td>0.093333</td>\n",
       "      <td>0.530891</td>\n",
       "      <td>4.093646</td>\n",
       "    </tr>\n",
       "    <tr>\n",
       "      <th>50%</th>\n",
       "      <td>35.000000</td>\n",
       "      <td>24.140000</td>\n",
       "      <td>0.171053</td>\n",
       "      <td>1.124325</td>\n",
       "      <td>6.907083</td>\n",
       "    </tr>\n",
       "    <tr>\n",
       "      <th>75%</th>\n",
       "      <td>63.000000</td>\n",
       "      <td>44.990000</td>\n",
       "      <td>0.666667</td>\n",
       "      <td>3.729853</td>\n",
       "      <td>10.127569</td>\n",
       "    </tr>\n",
       "    <tr>\n",
       "      <th>max</th>\n",
       "      <td>91.000000</td>\n",
       "      <td>1418.330000</td>\n",
       "      <td>14.000000</td>\n",
       "      <td>141.120000</td>\n",
       "      <td>24.390000</td>\n",
       "    </tr>\n",
       "  </tbody>\n",
       "</table>\n",
       "</div>"
      ],
      "text/plain": [
       "       delta_day_order  tot_value_cui    order_freq    value_freq  \\\n",
       "count     31782.000000   31888.000000  31782.000000  31782.000000   \n",
       "mean         36.409288      38.303043      0.471221      4.326917   \n",
       "std          29.417128      46.412121      0.649079      8.002206   \n",
       "min           1.000000       0.000000      0.000000      0.000000   \n",
       "25%           4.000000      12.887500      0.093333      0.530891   \n",
       "50%          35.000000      24.140000      0.171053      1.124325   \n",
       "75%          63.000000      44.990000      0.666667      3.729853   \n",
       "max          91.000000    1418.330000     14.000000    141.120000   \n",
       "\n",
       "       avg_order_value  \n",
       "count     31888.000000  \n",
       "mean          7.538017  \n",
       "std           4.077059  \n",
       "min           0.000000  \n",
       "25%           4.093646  \n",
       "50%           6.907083  \n",
       "75%          10.127569  \n",
       "max          24.390000  "
      ]
     },
     "execution_count": 22,
     "metadata": {},
     "output_type": "execute_result"
    }
   ],
   "source": [
    "df[new_fetures_list].describe()"
   ]
  },
  {
   "cell_type": "markdown",
   "metadata": {},
   "source": [
    "## focus on  age"
   ]
  },
  {
   "cell_type": "code",
   "execution_count": 15,
   "metadata": {},
   "outputs": [
    {
     "data": {
      "text/plain": [
       "count    31161.000000\n",
       "mean        27.506499\n",
       "std          7.160898\n",
       "min         15.000000\n",
       "25%         23.000000\n",
       "50%         26.000000\n",
       "75%         31.000000\n",
       "max         80.000000\n",
       "Name: customer_age, dtype: float64"
      ]
     },
     "execution_count": 15,
     "metadata": {},
     "output_type": "execute_result"
    }
   ],
   "source": [
    "df['customer_age'].describe()"
   ]
  },
  {
   "cell_type": "code",
   "execution_count": 25,
   "metadata": {},
   "outputs": [
    {
     "data": {
      "text/plain": [
       "<Axes: xlabel='customer_age', ylabel='avg_order_value'>"
      ]
     },
     "execution_count": 25,
     "metadata": {},
     "output_type": "execute_result"
    },
    {
     "data": {
      "image/png": "[encoded data removed]",
      "text/plain": [
       "<Figure size 640x480 with 1 Axes>"
      ]
     },
     "metadata": {},
     "output_type": "display_data"
    }
   ],
   "source": [
    "age_order_value_mean = df.groupby('customer_age')['avg_order_value'].mean().reset_index()\n",
    "age_order_value_mean.plot(x='customer_age', y='avg_order_value', kind='scatter')\n"
   ]
  },
  {
   "cell_type": "code",
   "execution_count": null,
   "metadata": {},
   "outputs": [],
   "source": []
  },
  {
   "cell_type": "code",
   "execution_count": 20,
   "metadata": {},
   "outputs": [
    {
     "data": {
      "image/png": "[encoded data removed]",
      "text/plain": [
       "<Figure size 1500x1000 with 4 Axes>"
      ]
     },
     "metadata": {},
     "output_type": "display_data"
    }
   ],
   "source": [
    "fig, axes = plt.subplots(2, 2, figsize=(15, 10))\n",
    "\n",
    "sns.violinplot(data=df, x='customer_age', ax=axes[0, 0])\n",
    "axes[0, 0].set_title('Customer Age')\n",
    "\n",
    "age_vendor_mean = df.groupby('customer_age')['vendor_count'].mean().reset_index()\n",
    "sns.histplot(data=age_vendor_mean, x='customer_age', y='vendor_count', ax=axes[0, 1])\n",
    "axes[0, 1].set_title('Vendor Count by Customer Age')\n",
    "\n",
    "\n",
    "age_product_count = df.groupby('customer_age')['vendor_count'].mean().reset_index()\n",
    "sns.violinplot(data=age_product_count, x='customer_age', y='vendor_count', ax=axes[0, 1])\n",
    "axes[0, 1].set_title('Product Count by Customer Age')\n",
    "\n",
    "\n",
    "\n",
    "plt.tight_layout()\n",
    "plt.show()"
   ]
  },
  {
   "cell_type": "markdown",
   "metadata": {},
   "source": [
    "the distribution of the customer age looks skewed, due to a high number of outliers"
   ]
  },
  {
   "cell_type": "code",
   "execution_count": 101,
   "metadata": {},
   "outputs": [
    {
     "name": "stdout",
     "output_type": "stream",
     "text": [
      "     is_chain  product_count  mean_product_count\n",
      "0           0              0                  81\n",
      "1           0              1                1750\n",
      "2           0              2                1764\n",
      "3           0              3                1015\n",
      "4           0              4                 513\n",
      "..        ...            ...                 ...\n",
      "774        73            110                   1\n",
      "775        75             75                   1\n",
      "776        80             88                   1\n",
      "777        81            269                   1\n",
      "778        83            109                   1\n",
      "\n",
      "[779 rows x 3 columns]\n"
     ]
    }
   ],
   "source": [
    "distinct_combinations = df.groupby(['is_chain', 'product_count']).size().reset_index(name='mean_product_count')\n",
    "print(distinct_combinations)"
   ]
  },
  {
   "cell_type": "code",
   "execution_count": 108,
   "metadata": {},
   "outputs": [
    {
     "data": {
      "text/plain": [
       "<Axes: xlabel='customer_age'>"
      ]
     },
     "execution_count": 108,
     "metadata": {},
     "output_type": "execute_result"
    },
    {
     "data": {
      "image/png": "[encoded data removed]",
      "text/plain": [
       "<Figure size 1500x500 with 1 Axes>"
      ]
     },
     "metadata": {},
     "output_type": "display_data"
    }
   ],
   "source": [
    "df.groupby(\"customer_age\").agg({\"vendor_count\": \"mean\"}).plot(kind='bar', figsize=(15, 5))"
   ]
  }
 ],
 "metadata": {
  "kernelspec": {
   "display_name": "DS-Env",
   "language": "python",
   "name": "python3"
  },
  "language_info": {
   "codemirror_mode": {
    "name": "ipython",
    "version": 3
   },
   "file_extension": ".py",
   "mimetype": "text/x-python",
   "name": "python",
   "nbconvert_exporter": "python",
   "pygments_lexer": "ipython3",
   "version": "3.12.4"
  }
 },
 "nbformat": 4,
 "nbformat_minor": 2
}
