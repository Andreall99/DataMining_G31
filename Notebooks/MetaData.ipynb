{
 "cells": [
  {
   "cell_type": "markdown",
   "metadata": {},
   "source": [
    "# MetaData"
   ]
  },
  {
   "cell_type": "code",
   "execution_count": 1,
   "metadata": {},
   "outputs": [],
   "source": [
    "import pandas as pd\n",
    "import numpy as np"
   ]
  },
  {
   "cell_type": "code",
   "execution_count": 2,
   "metadata": {},
   "outputs": [],
   "source": [
    "filepath = '/Users/leonardodicaterina/Documents/GitHub/DataMining_G31/Data/DM2425_ABCDEats_DATASET.csv'\n",
    "df = pd.read_csv(filepath)"
   ]
  },
  {
   "cell_type": "code",
   "execution_count": 80,
   "metadata": {},
   "outputs": [
    {
     "name": "stdout",
     "output_type": "stream",
     "text": [
      "<class 'pandas.core.frame.DataFrame'>\n",
      "RangeIndex: 31888 entries, 0 to 31887\n",
      "Data columns (total 56 columns):\n",
      " #   Column                    Non-Null Count  Dtype  \n",
      "---  ------                    --------------  -----  \n",
      " 0   customer_id               31888 non-null  object \n",
      " 1   customer_region           31888 non-null  object \n",
      " 2   customer_age              31161 non-null  float64\n",
      " 3   vendor_count              31888 non-null  int64  \n",
      " 4   product_count             31888 non-null  int64  \n",
      " 5   is_chain                  31888 non-null  int64  \n",
      " 6   first_order               31782 non-null  float64\n",
      " 7   last_order                31888 non-null  int64  \n",
      " 8   last_promo                31888 non-null  object \n",
      " 9   payment_method            31888 non-null  object \n",
      " 10  CUI_American              31888 non-null  float64\n",
      " 11  CUI_Asian                 31888 non-null  float64\n",
      " 12  CUI_Beverages             31888 non-null  float64\n",
      " 13  CUI_Cafe                  31888 non-null  float64\n",
      " 14  CUI_Chicken Dishes        31888 non-null  float64\n",
      " 15  CUI_Chinese               31888 non-null  float64\n",
      " 16  CUI_Desserts              31888 non-null  float64\n",
      " 17  CUI_Healthy               31888 non-null  float64\n",
      " 18  CUI_Indian                31888 non-null  float64\n",
      " 19  CUI_Italian               31888 non-null  float64\n",
      " 20  CUI_Japanese              31888 non-null  float64\n",
      " 21  CUI_Noodle Dishes         31888 non-null  float64\n",
      " 22  CUI_OTHER                 31888 non-null  float64\n",
      " 23  CUI_Street Food / Snacks  31888 non-null  float64\n",
      " 24  CUI_Thai                  31888 non-null  float64\n",
      " 25  DOW_0                     31888 non-null  int64  \n",
      " 26  DOW_1                     31888 non-null  int64  \n",
      " 27  DOW_2                     31888 non-null  int64  \n",
      " 28  DOW_3                     31888 non-null  int64  \n",
      " 29  DOW_4                     31888 non-null  int64  \n",
      " 30  DOW_5                     31888 non-null  int64  \n",
      " 31  DOW_6                     31888 non-null  int64  \n",
      " 32  HR_0                      30723 non-null  float64\n",
      " 33  HR_1                      31888 non-null  int64  \n",
      " 34  HR_2                      31888 non-null  int64  \n",
      " 35  HR_3                      31888 non-null  int64  \n",
      " 36  HR_4                      31888 non-null  int64  \n",
      " 37  HR_5                      31888 non-null  int64  \n",
      " 38  HR_6                      31888 non-null  int64  \n",
      " 39  HR_7                      31888 non-null  int64  \n",
      " 40  HR_8                      31888 non-null  int64  \n",
      " 41  HR_9                      31888 non-null  int64  \n",
      " 42  HR_10                     31888 non-null  int64  \n",
      " 43  HR_11                     31888 non-null  int64  \n",
      " 44  HR_12                     31888 non-null  int64  \n",
      " 45  HR_13                     31888 non-null  int64  \n",
      " 46  HR_14                     31888 non-null  int64  \n",
      " 47  HR_15                     31888 non-null  int64  \n",
      " 48  HR_16                     31888 non-null  int64  \n",
      " 49  HR_17                     31888 non-null  int64  \n",
      " 50  HR_18                     31888 non-null  int64  \n",
      " 51  HR_19                     31888 non-null  int64  \n",
      " 52  HR_20                     31888 non-null  int64  \n",
      " 53  HR_21                     31888 non-null  int64  \n",
      " 54  HR_22                     31888 non-null  int64  \n",
      " 55  HR_23                     31888 non-null  int64  \n",
      "dtypes: float64(18), int64(34), object(4)\n",
      "memory usage: 13.6+ MB\n"
     ]
    }
   ],
   "source": [
    "df.info()"
   ]
  },
  {
   "cell_type": "code",
   "execution_count": 3,
   "metadata": {},
   "outputs": [],
   "source": [
    "import sys\n",
    "sys.path.append('/Users/leonardodicaterina/Documents/GitHub/DataMining_G31/Functions')\n",
    "import CleanUp as p"
   ]
  },
  {
   "cell_type": "code",
   "execution_count": 4,
   "metadata": {},
   "outputs": [
    {
     "name": "stdout",
     "output_type": "stream",
     "text": [
      "There are repeated values in the dataset\n",
      "      customer_id customer_region  customer_age  vendor_count  product_count  \\\n",
      "20855  742ca068fc            8550          20.0             1              2   \n",
      "20907  742ca068fc            8550          20.0             1              2   \n",
      "\n",
      "       is_chain  first_order  last_order last_promo payment_method  ...  \\\n",
      "20855         0         35.0          35          -           CARD  ...   \n",
      "20907         0         35.0          35          -           CARD  ...   \n",
      "\n",
      "       HR_14  HR_15  HR_16  HR_17  HR_18  HR_19  HR_20  HR_21  HR_22  HR_23  \n",
      "20855      0      0      0      0      0      0      0      0      0      0  \n",
      "20907      0      0      0      0      0      0      0      0      0      0  \n",
      "\n",
      "[2 rows x 56 columns]\n",
      "primary_key is not numerical\n",
      "primary_key is non numerical\n"
     ]
    }
   ],
   "source": [
    "new_df, column_dict = p.cleanUp(df)"
   ]
  },
  {
   "cell_type": "code",
   "execution_count": 5,
   "metadata": {},
   "outputs": [
    {
     "name": "stdout",
     "output_type": "stream",
     "text": [
      "<class 'pandas.core.frame.DataFrame'>\n",
      "RangeIndex: 31888 entries, 0 to 31887\n",
      "Data columns (total 61 columns):\n",
      " #   Column                    Non-Null Count  Dtype  \n",
      "---  ------                    --------------  -----  \n",
      " 0   customer_id               31888 non-null  object \n",
      " 1   customer_region           31446 non-null  object \n",
      " 2   customer_age              31161 non-null  float64\n",
      " 3   vendor_count              31888 non-null  int64  \n",
      " 4   product_count             31888 non-null  int64  \n",
      " 5   is_chain                  31888 non-null  int64  \n",
      " 6   first_order               31782 non-null  float64\n",
      " 7   last_order                31888 non-null  int64  \n",
      " 8   last_promo                31888 non-null  object \n",
      " 9   payment_method            31888 non-null  object \n",
      " 10  CUI_American              31888 non-null  float64\n",
      " 11  CUI_Asian                 31888 non-null  float64\n",
      " 12  CUI_Beverages             31888 non-null  float64\n",
      " 13  CUI_Cafe                  31888 non-null  float64\n",
      " 14  CUI_Chicken Dishes        31888 non-null  float64\n",
      " 15  CUI_Chinese               31888 non-null  float64\n",
      " 16  CUI_Desserts              31888 non-null  float64\n",
      " 17  CUI_Healthy               31888 non-null  float64\n",
      " 18  CUI_Indian                31888 non-null  float64\n",
      " 19  CUI_Italian               31888 non-null  float64\n",
      " 20  CUI_Japanese              31888 non-null  float64\n",
      " 21  CUI_Noodle Dishes         31888 non-null  float64\n",
      " 22  CUI_OTHER                 31888 non-null  float64\n",
      " 23  CUI_Street Food / Snacks  31888 non-null  float64\n",
      " 24  CUI_Thai                  31888 non-null  float64\n",
      " 25  DOW_0                     31888 non-null  int64  \n",
      " 26  DOW_1                     31888 non-null  int64  \n",
      " 27  DOW_2                     31888 non-null  int64  \n",
      " 28  DOW_3                     31888 non-null  int64  \n",
      " 29  DOW_4                     31888 non-null  int64  \n",
      " 30  DOW_5                     31888 non-null  int64  \n",
      " 31  DOW_6                     31888 non-null  int64  \n",
      " 32  HR_0                      31888 non-null  int64  \n",
      " 33  HR_1                      31888 non-null  int64  \n",
      " 34  HR_2                      31888 non-null  int64  \n",
      " 35  HR_3                      31888 non-null  int64  \n",
      " 36  HR_4                      31888 non-null  int64  \n",
      " 37  HR_5                      31888 non-null  int64  \n",
      " 38  HR_6                      31888 non-null  int64  \n",
      " 39  HR_7                      31888 non-null  int64  \n",
      " 40  HR_8                      31888 non-null  int64  \n",
      " 41  HR_9                      31888 non-null  int64  \n",
      " 42  HR_10                     31888 non-null  int64  \n",
      " 43  HR_11                     31888 non-null  int64  \n",
      " 44  HR_12                     31888 non-null  int64  \n",
      " 45  HR_13                     31888 non-null  int64  \n",
      " 46  HR_14                     31888 non-null  int64  \n",
      " 47  HR_15                     31888 non-null  int64  \n",
      " 48  HR_16                     31888 non-null  int64  \n",
      " 49  HR_17                     31888 non-null  int64  \n",
      " 50  HR_18                     31888 non-null  int64  \n",
      " 51  HR_19                     31888 non-null  int64  \n",
      " 52  HR_20                     31888 non-null  int64  \n",
      " 53  HR_21                     31888 non-null  int64  \n",
      " 54  HR_22                     31888 non-null  int64  \n",
      " 55  HR_23                     31888 non-null  int64  \n",
      " 56  delta_day_order           31782 non-null  float64\n",
      " 57  tot_value_cui             31888 non-null  float64\n",
      " 58  order_freq                31782 non-null  float64\n",
      " 59  value_freq                31782 non-null  float64\n",
      " 60  avg_order_value           31888 non-null  float64\n",
      "dtypes: float64(22), int64(35), object(4)\n",
      "memory usage: 14.8+ MB\n"
     ]
    }
   ],
   "source": [
    "info_df =new_df.info()"
   ]
  },
  {
   "cell_type": "code",
   "execution_count": 6,
   "metadata": {},
   "outputs": [],
   "source": [
    "nullcount = new_df.isnull().sum()"
   ]
  },
  {
   "cell_type": "code",
   "execution_count": 7,
   "metadata": {},
   "outputs": [
    {
     "data": {
      "text/plain": [
       "1593"
      ]
     },
     "execution_count": 7,
     "metadata": {},
     "output_type": "execute_result"
    }
   ],
   "source": [
    "nullcount.sum()"
   ]
  },
  {
   "cell_type": "code",
   "execution_count": 8,
   "metadata": {},
   "outputs": [],
   "source": [
    "import matplotlib.pyplot as plt"
   ]
  },
  {
   "cell_type": "code",
   "execution_count": 9,
   "metadata": {},
   "outputs": [
    {
     "data": {
      "text/plain": [
       "[<matplotlib.lines.Line2D at 0x12325ef00>]"
      ]
     },
     "execution_count": 9,
     "metadata": {},
     "output_type": "execute_result"
    },
    {
     "data": {
      "image/png": "[encoded data removed]",
      "text/plain": [
       "<Figure size 640x480 with 1 Axes>"
      ]
     },
     "metadata": {},
     "output_type": "display_data"
    }
   ],
   "source": [
    "plt.plot(nullcount)"
   ]
  },
  {
   "cell_type": "code",
   "execution_count": 10,
   "metadata": {},
   "outputs": [
    {
     "data": {
      "text/plain": [
       "customer_region    442\n",
       "customer_age       727\n",
       "first_order        106\n",
       "delta_day_order    106\n",
       "order_freq         106\n",
       "value_freq         106\n",
       "dtype: int64"
      ]
     },
     "execution_count": 10,
     "metadata": {},
     "output_type": "execute_result"
    }
   ],
   "source": [
    "null_count = nullcount[nullcount != 0]\n",
    "null_count"
   ]
  },
  {
   "cell_type": "code",
   "execution_count": null,
   "metadata": {},
   "outputs": [],
   "source": []
  }
 ],
 "metadata": {
  "kernelspec": {
   "display_name": "DataMinig",
   "language": "python",
   "name": "python3"
  },
  "language_info": {
   "codemirror_mode": {
    "name": "ipython",
    "version": 3
   },
   "file_extension": ".py",
   "mimetype": "text/x-python",
   "name": "python",
   "nbconvert_exporter": "python",
   "pygments_lexer": "ipython3",
   "version": "3.12.2"
  }
 },
 "nbformat": 4,
 "nbformat_minor": 2
}
