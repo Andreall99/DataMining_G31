{
 "cells": [
  {
   "cell_type": "markdown",
   "metadata": {},
   "source": [
    "# Final Preprocessing"
   ]
  },
  {
   "cell_type": "code",
   "execution_count": null,
   "metadata": {},
   "outputs": [],
   "source": [
    "import numpy as np\n",
    "import matplotlib.pyplot as plt\n",
    "import pandas as pd\n",
    "import seaborn as sns\n",
    "import sys\n",
    "sys.path.append('/Users/leonardodicaterina/Documents/GitHub/DataMining_G31/Functions')\n",
    "import CleanUp as p"
   ]
  },
  {
   "cell_type": "code",
   "execution_count": 3,
   "metadata": {},
   "outputs": [],
   "source": [
    "from sklearn.decomposition import PCA\n",
    "from sklearn.preprocessing import StandardScaler\n",
    "from sklearn.preprocessing import LabelEncoder\n",
    "from sklearn.preprocessing import OneHotEncoder\n",
    "from sklearn.model_selection import train_test_split\n"
   ]
  },
  {
   "cell_type": "code",
   "execution_count": 2,
   "metadata": {},
   "outputs": [
    {
     "name": "stdout",
     "output_type": "stream",
     "text": [
      "-----------looking for incostisencies -----------\n",
      "There are repeated values in the dataset\n",
      "      customer_id customer_region  customer_age  vendor_count  product_count  \\\n",
      "20855  742ca068fc            8550          20.0             1              2   \n",
      "20907  742ca068fc            8550          20.0             1              2   \n",
      "\n",
      "       is_chain  first_order  last_order last_promo payment_method  ...  \\\n",
      "20855         0         35.0          35          -           CARD  ...   \n",
      "20907         0         35.0          35          -           CARD  ...   \n",
      "\n",
      "       HR_14  HR_15  HR_16  HR_17  HR_18  HR_19  HR_20  HR_21  HR_22  HR_23  \n",
      "20855      0      0      0      0      0      0      0      0      0      0  \n",
      "20907      0      0      0      0      0      0      0      0      0      0  \n",
      "\n",
      "[2 rows x 56 columns]\n",
      "-----------identify the numerical columns -----------\n",
      "primary_key is not numerical\n",
      "-----------identify the non numerical columns -----------\n",
      "primary_key is non numerical\n",
      "-------------- building new key features -----------\n",
      "----- (1) customer_city\n",
      "----- (2) used_promo\n",
      "----- (3) order_count\n",
      "----- (4) avg_product_by_order\n",
      "----- (5) delta_day_order\n",
      "----- (6) tot_value_cui\n",
      "----- (7) order_freq\n",
      "----- (8) value_freq\n",
      "----- (9) value_freq\n",
      "----- (10) avg_order_value\n",
      "#----- (11) avg_product_value\n"
     ]
    }
   ],
   "source": [
    "# Importing the dataset\n",
    "filepath = '../Data/DM2425_ABCDEats_DATASET.csv'\n",
    "# Load the raw data\n",
    "raw_data = pd.read_csv(filepath)\n",
    "df, columns_dict = p.cleanUp(raw_data)"
   ]
  },
  {
   "cell_type": "markdown",
   "metadata": {},
   "source": [
    "## split the data into train and test"
   ]
  },
  {
   "cell_type": "code",
   "execution_count": 4,
   "metadata": {},
   "outputs": [],
   "source": [
    "# Splitting the dataset into the Training set and Test set\n",
    "Train, Test = train_test_split(df, test_size = 0.2, random_state = 0)"
   ]
  },
  {
   "cell_type": "markdown",
   "metadata": {},
   "source": [
    "## PCA"
   ]
  },
  {
   "cell_type": "code",
   "execution_count": 7,
   "metadata": {},
   "outputs": [
    {
     "data": {
      "text/plain": [
       "['customer_id',\n",
       " 'customer_region',\n",
       " 'last_promo',\n",
       " 'payment_method',\n",
       " 'customer_city']"
      ]
     },
     "execution_count": 7,
     "metadata": {},
     "output_type": "execute_result"
    }
   ],
   "source": [
    "df.select_dtypes(include=['object']).columns.tolist()"
   ]
  },
  {
   "cell_type": "code",
   "execution_count": null,
   "metadata": {},
   "outputs": [],
   "source": []
  }
 ],
 "metadata": {
  "kernelspec": {
   "display_name": "DataMinig",
   "language": "python",
   "name": "python3"
  },
  "language_info": {
   "codemirror_mode": {
    "name": "ipython",
    "version": 3
   },
   "file_extension": ".py",
   "mimetype": "text/x-python",
   "name": "python",
   "nbconvert_exporter": "python",
   "pygments_lexer": "ipython3",
   "version": "3.12.2"
  }
 },
 "nbformat": 4,
 "nbformat_minor": 2
}
