{
 "cells": [
  {
   "cell_type": "markdown",
   "metadata": {},
   "source": [
    "# expore and cleanup\n",
    "and also add some features"
   ]
  },
  {
   "cell_type": "code",
   "execution_count": 2,
   "metadata": {},
   "outputs": [],
   "source": [
    "import pandas as pd\n",
    "import numpy as np  \n",
    "import matplotlib.pyplot as plt\n",
    "import seaborn as sns "
   ]
  },
  {
   "cell_type": "code",
   "execution_count": 3,
   "metadata": {},
   "outputs": [
    {
     "data": {
      "text/plain": [
       "(31888, 56)"
      ]
     },
     "execution_count": 3,
     "metadata": {},
     "output_type": "execute_result"
    }
   ],
   "source": [
    "file_path = '../Data/DM2425_ABCDEats_DATASET.csv'\n",
    "df = pd.read_csv(file_path)\n",
    "shape_of_df = df.shape\n",
    "shape_of_df"
   ]
  },
  {
   "cell_type": "code",
   "execution_count": 4,
   "metadata": {},
   "outputs": [
    {
     "data": {
      "text/html": [
       "<div>\n",
       "<style scoped>\n",
       "    .dataframe tbody tr th:only-of-type {\n",
       "        vertical-align: middle;\n",
       "    }\n",
       "\n",
       "    .dataframe tbody tr th {\n",
       "        vertical-align: top;\n",
       "    }\n",
       "\n",
       "    .dataframe thead th {\n",
       "        text-align: right;\n",
       "    }\n",
       "</style>\n",
       "<table border=\"1\" class=\"dataframe\">\n",
       "  <thead>\n",
       "    <tr style=\"text-align: right;\">\n",
       "      <th></th>\n",
       "      <th>customer_id</th>\n",
       "      <th>customer_region</th>\n",
       "      <th>customer_age</th>\n",
       "      <th>vendor_count</th>\n",
       "      <th>product_count</th>\n",
       "      <th>is_chain</th>\n",
       "      <th>first_order</th>\n",
       "      <th>last_order</th>\n",
       "      <th>last_promo</th>\n",
       "      <th>payment_method</th>\n",
       "      <th>...</th>\n",
       "      <th>HR_14</th>\n",
       "      <th>HR_15</th>\n",
       "      <th>HR_16</th>\n",
       "      <th>HR_17</th>\n",
       "      <th>HR_18</th>\n",
       "      <th>HR_19</th>\n",
       "      <th>HR_20</th>\n",
       "      <th>HR_21</th>\n",
       "      <th>HR_22</th>\n",
       "      <th>HR_23</th>\n",
       "    </tr>\n",
       "  </thead>\n",
       "  <tbody>\n",
       "    <tr>\n",
       "      <th>0</th>\n",
       "      <td>1b8f824d5e</td>\n",
       "      <td>2360</td>\n",
       "      <td>18.0</td>\n",
       "      <td>2</td>\n",
       "      <td>5</td>\n",
       "      <td>1</td>\n",
       "      <td>0.0</td>\n",
       "      <td>1</td>\n",
       "      <td>DELIVERY</td>\n",
       "      <td>DIGI</td>\n",
       "      <td>...</td>\n",
       "      <td>0</td>\n",
       "      <td>0</td>\n",
       "      <td>0</td>\n",
       "      <td>0</td>\n",
       "      <td>2</td>\n",
       "      <td>0</td>\n",
       "      <td>0</td>\n",
       "      <td>0</td>\n",
       "      <td>0</td>\n",
       "      <td>0</td>\n",
       "    </tr>\n",
       "    <tr>\n",
       "      <th>1</th>\n",
       "      <td>5d272b9dcb</td>\n",
       "      <td>8670</td>\n",
       "      <td>17.0</td>\n",
       "      <td>2</td>\n",
       "      <td>2</td>\n",
       "      <td>2</td>\n",
       "      <td>0.0</td>\n",
       "      <td>1</td>\n",
       "      <td>DISCOUNT</td>\n",
       "      <td>DIGI</td>\n",
       "      <td>...</td>\n",
       "      <td>0</td>\n",
       "      <td>0</td>\n",
       "      <td>0</td>\n",
       "      <td>0</td>\n",
       "      <td>0</td>\n",
       "      <td>0</td>\n",
       "      <td>0</td>\n",
       "      <td>0</td>\n",
       "      <td>0</td>\n",
       "      <td>0</td>\n",
       "    </tr>\n",
       "    <tr>\n",
       "      <th>2</th>\n",
       "      <td>f6d1b2ba63</td>\n",
       "      <td>4660</td>\n",
       "      <td>38.0</td>\n",
       "      <td>1</td>\n",
       "      <td>2</td>\n",
       "      <td>2</td>\n",
       "      <td>0.0</td>\n",
       "      <td>1</td>\n",
       "      <td>DISCOUNT</td>\n",
       "      <td>CASH</td>\n",
       "      <td>...</td>\n",
       "      <td>0</td>\n",
       "      <td>0</td>\n",
       "      <td>0</td>\n",
       "      <td>0</td>\n",
       "      <td>0</td>\n",
       "      <td>0</td>\n",
       "      <td>0</td>\n",
       "      <td>0</td>\n",
       "      <td>0</td>\n",
       "      <td>0</td>\n",
       "    </tr>\n",
       "    <tr>\n",
       "      <th>3</th>\n",
       "      <td>180c632ed8</td>\n",
       "      <td>4660</td>\n",
       "      <td>NaN</td>\n",
       "      <td>2</td>\n",
       "      <td>3</td>\n",
       "      <td>1</td>\n",
       "      <td>0.0</td>\n",
       "      <td>2</td>\n",
       "      <td>DELIVERY</td>\n",
       "      <td>DIGI</td>\n",
       "      <td>...</td>\n",
       "      <td>1</td>\n",
       "      <td>0</td>\n",
       "      <td>0</td>\n",
       "      <td>0</td>\n",
       "      <td>0</td>\n",
       "      <td>0</td>\n",
       "      <td>0</td>\n",
       "      <td>0</td>\n",
       "      <td>0</td>\n",
       "      <td>0</td>\n",
       "    </tr>\n",
       "    <tr>\n",
       "      <th>4</th>\n",
       "      <td>4eb37a6705</td>\n",
       "      <td>4660</td>\n",
       "      <td>20.0</td>\n",
       "      <td>2</td>\n",
       "      <td>5</td>\n",
       "      <td>0</td>\n",
       "      <td>0.0</td>\n",
       "      <td>2</td>\n",
       "      <td>-</td>\n",
       "      <td>DIGI</td>\n",
       "      <td>...</td>\n",
       "      <td>0</td>\n",
       "      <td>0</td>\n",
       "      <td>0</td>\n",
       "      <td>0</td>\n",
       "      <td>0</td>\n",
       "      <td>0</td>\n",
       "      <td>0</td>\n",
       "      <td>0</td>\n",
       "      <td>0</td>\n",
       "      <td>0</td>\n",
       "    </tr>\n",
       "  </tbody>\n",
       "</table>\n",
       "<p>5 rows × 56 columns</p>\n",
       "</div>"
      ],
      "text/plain": [
       "  customer_id customer_region  customer_age  vendor_count  product_count  \\\n",
       "0  1b8f824d5e            2360          18.0             2              5   \n",
       "1  5d272b9dcb            8670          17.0             2              2   \n",
       "2  f6d1b2ba63            4660          38.0             1              2   \n",
       "3  180c632ed8            4660           NaN             2              3   \n",
       "4  4eb37a6705            4660          20.0             2              5   \n",
       "\n",
       "   is_chain  first_order  last_order last_promo payment_method  ...  HR_14  \\\n",
       "0         1          0.0           1   DELIVERY           DIGI  ...      0   \n",
       "1         2          0.0           1   DISCOUNT           DIGI  ...      0   \n",
       "2         2          0.0           1   DISCOUNT           CASH  ...      0   \n",
       "3         1          0.0           2   DELIVERY           DIGI  ...      1   \n",
       "4         0          0.0           2          -           DIGI  ...      0   \n",
       "\n",
       "   HR_15  HR_16  HR_17  HR_18  HR_19  HR_20  HR_21  HR_22  HR_23  \n",
       "0      0      0      0      2      0      0      0      0      0  \n",
       "1      0      0      0      0      0      0      0      0      0  \n",
       "2      0      0      0      0      0      0      0      0      0  \n",
       "3      0      0      0      0      0      0      0      0      0  \n",
       "4      0      0      0      0      0      0      0      0      0  \n",
       "\n",
       "[5 rows x 56 columns]"
      ]
     },
     "execution_count": 4,
     "metadata": {},
     "output_type": "execute_result"
    }
   ],
   "source": [
    "df.head()"
   ]
  },
  {
   "cell_type": "markdown",
   "metadata": {},
   "source": [
    "## Remove Duplicates\n",
    "\n",
    "by the shape of the dataset the primary key should be customer_id, as such every value in this column should be unique"
   ]
  },
  {
   "cell_type": "code",
   "execution_count": 5,
   "metadata": {},
   "outputs": [
    {
     "name": "stdout",
     "output_type": "stream",
     "text": [
      "oh no! there are repetitions!\n"
     ]
    }
   ],
   "source": [
    "primary_key = 'customer_id'\n",
    "unique_values = df[primary_key].unique().shape\n",
    "n_rows = df[primary_key].shape [0]\n",
    "if unique_values != n_rows:\n",
    "    print('oh no! there are repetitions!')\n",
    "else:\n",
    "    print(\"all good! no repetitions!\")"
   ]
  },
  {
   "cell_type": "code",
   "execution_count": 6,
   "metadata": {},
   "outputs": [
    {
     "data": {
      "text/plain": [
       "Index(['742ca068fc', 'b55012ee1c', 'df91183978', '6bbf5f74cd', '24251eb7da',\n",
       "       '201a13a34d', 'b8e7a643a4', 'cc08ef25ce', '8aa9bbc147', '671bf0c738',\n",
       "       '06018a56be', 'fac7984c0d', 'cf563a0a98'],\n",
       "      dtype='object', name='customer_id')"
      ]
     },
     "execution_count": 6,
     "metadata": {},
     "output_type": "execute_result"
    }
   ],
   "source": [
    "#find repeated customer_id\n",
    "repetitions = df[primary_key].value_counts()\n",
    "#keep only the customer_id that are repeated\n",
    "repetitions = repetitions[repetitions > 1]\n",
    "repetitions = repetitions.index\n",
    "repetitions"
   ]
  },
  {
   "cell_type": "code",
   "execution_count": 7,
   "metadata": {},
   "outputs": [
    {
     "name": "stdout",
     "output_type": "stream",
     "text": [
      "0\n",
      "dropped repeated customer 742ca068fc\n",
      "0\n",
      "dropped repeated customer b55012ee1c\n",
      "0\n",
      "dropped repeated customer df91183978\n",
      "0\n",
      "dropped repeated customer 6bbf5f74cd\n",
      "0\n",
      "dropped repeated customer 24251eb7da\n",
      "0\n",
      "dropped repeated customer 201a13a34d\n",
      "0\n",
      "dropped repeated customer b8e7a643a4\n",
      "0\n",
      "dropped repeated customer cc08ef25ce\n",
      "0\n",
      "dropped repeated customer 8aa9bbc147\n",
      "0\n",
      "dropped repeated customer 671bf0c738\n",
      "0\n",
      "dropped repeated customer 06018a56be\n",
      "0\n",
      "dropped repeated customer fac7984c0d\n",
      "0\n",
      "dropped repeated customer cf563a0a98\n"
     ]
    }
   ],
   "source": [
    "for customer_id in repetitions:\n",
    "    rep_df = df[df[primary_key] == customer_id]\n",
    "    s = rep_df.shape\n",
    "    s1 = 0\n",
    "    for i in range(s[1]):\n",
    "        s1 += rep_df.iloc[:,i].unique().shape[0]\n",
    "    print(s1 - s[1])\n",
    "    # remove ont of the repeated  primary keys\n",
    "    if s1 - s[1] == 0:\n",
    "        df = df.drop(rep_df.index[0])\n",
    "        print('dropped repeated customer {p}'.format( p = customer_id))   "
   ]
  },
  {
   "cell_type": "code",
   "execution_count": 8,
   "metadata": {},
   "outputs": [
    {
     "data": {
      "text/plain": [
       "0.0"
      ]
     },
     "execution_count": 8,
     "metadata": {},
     "output_type": "execute_result"
    }
   ],
   "source": [
    "df['first_order'].min()"
   ]
  },
  {
   "cell_type": "code",
   "execution_count": 9,
   "metadata": {},
   "outputs": [
    {
     "name": "stdout",
     "output_type": "stream",
     "text": [
      "rows: \t31875 \n",
      "clients:31875\n"
     ]
    }
   ],
   "source": [
    "print(\"rows: \\t{p1} \\nclients:{p2}\".format( p1 = df.shape [0],\n",
    "                                        p2 = df[primary_key].unique().shape[0]))\n"
   ]
  },
  {
   "cell_type": "markdown",
   "metadata": {},
   "source": [
    "## Check consistency in number of orders\n",
    "The number of orders distributed by days of the week and hours of the day and should add up to the same number"
   ]
  },
  {
   "cell_type": "code",
   "execution_count": 10,
   "metadata": {},
   "outputs": [
    {
     "data": {
      "text/plain": [
       "0.0     30711\n",
       "1.0       934\n",
       "2.0       159\n",
       "3.0        39\n",
       "4.0        15\n",
       "5.0         8\n",
       "9.0         2\n",
       "6.0         2\n",
       "12.0        1\n",
       "8.0         1\n",
       "7.0         1\n",
       "11.0        1\n",
       "15.0        1\n",
       "Name: count, dtype: int64"
      ]
     },
     "execution_count": 10,
     "metadata": {},
     "output_type": "execute_result"
    }
   ],
   "source": [
    "DOW_col = [col for col in df.columns if col.startswith('DOW')]\n",
    "HR_col = [col for col in df.columns if col.startswith('HR')]\n",
    "DOW_col_sum = df[DOW_col].sum(axis=1)\n",
    "HR_col_sum = df[HR_col].sum(axis=1)\n",
    "Delta_DOW_HR = DOW_col_sum-HR_col_sum\n",
    "Delta_DOW_HR.value_counts()"
   ]
  },
  {
   "cell_type": "markdown",
   "metadata": {},
   "source": [
    "The values are always positive! \n",
    "If there are also missing values in HR this means that HR is underestimating and we can fill the missing values with the difference"
   ]
  },
  {
   "cell_type": "code",
   "execution_count": 11,
   "metadata": {},
   "outputs": [
    {
     "data": {
      "text/plain": [
       "0"
      ]
     },
     "execution_count": 11,
     "metadata": {},
     "output_type": "execute_result"
    }
   ],
   "source": [
    "HR_nans = df[HR_col].isna().sum(axis = 1)\n",
    "x = pd.DataFrame(Delta_DOW_HR, HR_nans)\n",
    "HR_nans[HR_nans > 1].count()"
   ]
  },
  {
   "cell_type": "markdown",
   "metadata": {},
   "source": [
    "each row does not have more than 1 nan! the inconsistency is due to uno specific missing value!"
   ]
  },
  {
   "cell_type": "code",
   "execution_count": 12,
   "metadata": {},
   "outputs": [
    {
     "data": {
      "text/plain": [
       "HR_0     1164\n",
       "HR_1        0\n",
       "HR_2        0\n",
       "HR_3        0\n",
       "HR_4        0\n",
       "HR_5        0\n",
       "HR_6        0\n",
       "HR_7        0\n",
       "HR_8        0\n",
       "HR_9        0\n",
       "HR_10       0\n",
       "HR_11       0\n",
       "HR_12       0\n",
       "HR_13       0\n",
       "HR_14       0\n",
       "HR_15       0\n",
       "HR_16       0\n",
       "HR_17       0\n",
       "HR_18       0\n",
       "HR_19       0\n",
       "HR_20       0\n",
       "HR_21       0\n",
       "HR_22       0\n",
       "HR_23       0\n",
       "dtype: int64"
      ]
     },
     "execution_count": 12,
     "metadata": {},
     "output_type": "execute_result"
    }
   ],
   "source": [
    "df[HR_col].isna().sum()\n"
   ]
  },
  {
   "cell_type": "markdown",
   "metadata": {},
   "source": [
    "How convenient! There is at best one missing value in hours and it's  in only in HR_0"
   ]
  },
  {
   "cell_type": "code",
   "execution_count": 13,
   "metadata": {},
   "outputs": [],
   "source": [
    "HR_col_from1 = HR_col.copy()\n",
    "HR_col_from1.remove('HR_0')\n"
   ]
  },
  {
   "cell_type": "code",
   "execution_count": 14,
   "metadata": {},
   "outputs": [],
   "source": [
    "HR_col_from1_sum = df[HR_col_from1].sum(axis=1)\n",
    "df['HR_0'] = DOW_col_sum - HR_col_from1_sum"
   ]
  },
  {
   "cell_type": "code",
   "execution_count": 15,
   "metadata": {},
   "outputs": [
    {
     "data": {
      "text/plain": [
       "0"
      ]
     },
     "execution_count": 15,
     "metadata": {},
     "output_type": "execute_result"
    }
   ],
   "source": [
    "df['HR_0'].isna().sum()"
   ]
  },
  {
   "cell_type": "code",
   "execution_count": 16,
   "metadata": {},
   "outputs": [],
   "source": [
    "df['Total_Orders'] = DOW_col_sum"
   ]
  },
  {
   "cell_type": "code",
   "execution_count": 17,
   "metadata": {},
   "outputs": [],
   "source": [
    "df['avg_order_product_number'] = df['product_count'] /df['Total_Orders']"
   ]
  },
  {
   "cell_type": "markdown",
   "metadata": {},
   "source": [
    "## Non Numerical Columns"
   ]
  },
  {
   "cell_type": "code",
   "execution_count": 18,
   "metadata": {},
   "outputs": [
    {
     "name": "stdout",
     "output_type": "stream",
     "text": [
      "['customer_region', 'last_promo', 'payment_method']\n"
     ]
    }
   ],
   "source": [
    "non_numerical_columns = df.select_dtypes(include=['object']).columns.tolist()\n",
    "non_numerical_columns.remove(primary_key)\n",
    "print(non_numerical_columns)"
   ]
  },
  {
   "cell_type": "code",
   "execution_count": 19,
   "metadata": {},
   "outputs": [
    {
     "name": "stdout",
     "output_type": "stream",
     "text": [
      "customer_region: ['2360' '8670' '4660' '2440' '-' '4140' '2490' '8370' '8550']\n",
      "last_promo: ['DELIVERY' 'DISCOUNT' '-' 'FREEBIE']\n",
      "payment_method: ['DIGI' 'CASH' 'CARD']\n"
     ]
    }
   ],
   "source": [
    "for col in non_numerical_columns:\n",
    "    print(f'{col}: {df[col].unique()}')"
   ]
  },
  {
   "cell_type": "markdown",
   "metadata": {},
   "source": [
    "### check for null variables"
   ]
  },
  {
   "cell_type": "code",
   "execution_count": 20,
   "metadata": {},
   "outputs": [],
   "source": [
    "df.loc[df['customer_region'] == '-', 'customer_region'] = np.nan"
   ]
  },
  {
   "cell_type": "code",
   "execution_count": 21,
   "metadata": {},
   "outputs": [
    {
     "data": {
      "text/plain": [
       "array(['2360', '8670', '4660', '2440', nan, '4140', '2490', '8370',\n",
       "       '8550'], dtype=object)"
      ]
     },
     "execution_count": 21,
     "metadata": {},
     "output_type": "execute_result"
    }
   ],
   "source": [
    "df['customer_region'].unique()  "
   ]
  },
  {
   "cell_type": "code",
   "execution_count": 22,
   "metadata": {},
   "outputs": [
    {
     "data": {
      "text/plain": [
       "array(['DELIVERY', 'DISCOUNT', '-', 'FREEBIE'], dtype=object)"
      ]
     },
     "execution_count": 22,
     "metadata": {},
     "output_type": "execute_result"
    }
   ],
   "source": [
    "df['last_promo'].unique()"
   ]
  },
  {
   "cell_type": "code",
   "execution_count": 23,
   "metadata": {},
   "outputs": [
    {
     "data": {
      "text/plain": [
       "array(['DELIVERY', 'DISCOUNT', 'No_Promo', 'FREEBIE'], dtype=object)"
      ]
     },
     "execution_count": 23,
     "metadata": {},
     "output_type": "execute_result"
    }
   ],
   "source": [
    "df.loc[df['last_promo'] == '-', 'last_promo'] = \"No_Promo\"\n",
    "df['last_promo'].unique()"
   ]
  },
  {
   "cell_type": "markdown",
   "metadata": {},
   "source": [
    "### customer_region\n",
    "Geographic region where the customer is located."
   ]
  },
  {
   "cell_type": "code",
   "execution_count": 24,
   "metadata": {},
   "outputs": [
    {
     "name": "stdout",
     "output_type": "stream",
     "text": [
      "customer_region\n",
      "8670    31.053352\n",
      "4660    30.382083\n",
      "2360    28.088315\n",
      "2440     4.717972\n",
      "4140     2.726434\n",
      "8370     1.574778\n",
      "2490     1.415710\n",
      "8550     0.041358\n",
      "Name: count, dtype: float64\n",
      "1.3866666666666667\n"
     ]
    }
   ],
   "source": [
    "region_count = df['customer_region'].value_counts()\n",
    "region_percentage = region_count / region_count.sum() * 100\n",
    "print(region_percentage)\n",
    "region_nan = df['customer_region'].isnull().sum()\n",
    "print(region_nan/df.shape[0]*100)"
   ]
  },
  {
   "cell_type": "code",
   "execution_count": 25,
   "metadata": {},
   "outputs": [
    {
     "data": {
      "image/png": "[encoded data removed]",
      "text/plain": [
       "<Figure size 1000x1000 with 1 Axes>"
      ]
     },
     "metadata": {},
     "output_type": "display_data"
    }
   ],
   "source": [
    "# drow a pie chart for the regions\n",
    "plt.figure(figsize=(10,10))\n",
    "plt.pie(region_percentage, labels = region_percentage.index, autopct='%1.1f%%')\n",
    "plt.title('Regions distribution')\n",
    "plt.show()\n"
   ]
  },
  {
   "cell_type": "markdown",
   "metadata": {},
   "source": [
    "### last_promo\n",
    "The category of the promotion or discount most recently used by the\n",
    "custome"
   ]
  },
  {
   "cell_type": "code",
   "execution_count": 26,
   "metadata": {},
   "outputs": [
    {
     "data": {
      "text/plain": [
       "count     31875\n",
       "unique        2\n",
       "top       False\n",
       "freq      16744\n",
       "Name: has_promo, dtype: object"
      ]
     },
     "execution_count": 26,
     "metadata": {},
     "output_type": "execute_result"
    }
   ],
   "source": [
    "# make a new boolean column the is called has_promo \n",
    "\n",
    "df['has_promo'] = df['last_promo'] != 'No_Promo'\n",
    "df['has_promo'].describe()"
   ]
  },
  {
   "cell_type": "code",
   "execution_count": 27,
   "metadata": {},
   "outputs": [
    {
     "name": "stdout",
     "output_type": "stream",
     "text": [
      "has_promo\n",
      "False    52.530196\n",
      "True     47.469804\n",
      "Name: count, dtype: float64\n"
     ]
    },
    {
     "data": {
      "image/png": "[encoded data removed]",
      "text/plain": [
       "<Figure size 1000x1000 with 1 Axes>"
      ]
     },
     "metadata": {},
     "output_type": "display_data"
    }
   ],
   "source": [
    "#plot a piechart for has_promo\n",
    "promo_count = df['has_promo'].value_counts()\n",
    "promo_percentage = promo_count / promo_count.sum() * 100\n",
    "print(promo_percentage)\n",
    "plt.figure(figsize=(10,10))\n",
    "plt.pie(promo_percentage, labels = promo_percentage.index, autopct='%1.1f%%')\n",
    "plt.title('Promo distribution')\n",
    "plt.show() \n"
   ]
  },
  {
   "cell_type": "code",
   "execution_count": 28,
   "metadata": {},
   "outputs": [
    {
     "name": "stdout",
     "output_type": "stream",
     "text": [
      "last_promo\n",
      "No_Promo    52.530196\n",
      "DELIVERY    19.708235\n",
      "DISCOUNT    14.105098\n",
      "FREEBIE     13.656471\n",
      "Name: count, dtype: float64\n",
      "0.0\n"
     ]
    },
    {
     "data": {
      "text/plain": [
       "Text(0.5, 1.0, 'Promos distribution')"
      ]
     },
     "execution_count": 28,
     "metadata": {},
     "output_type": "execute_result"
    },
    {
     "data": {
      "image/png": "[encoded data removed]",
      "text/plain": [
       "<Figure size 1000x1000 with 1 Axes>"
      ]
     },
     "metadata": {},
     "output_type": "display_data"
    }
   ],
   "source": [
    "promo_count = df['last_promo'].value_counts()\n",
    "promo_percentage = promo_count / promo_count.sum() * 100\n",
    "print(promo_percentage)\n",
    "promo_count_nan = df['last_promo'].isnull().sum()\n",
    "print(promo_count_nan/df.shape[0]*100)\n",
    "\n",
    "# sum aggregate all the promos tigether to get the total number of promos or no promos\n",
    "plt.figure(figsize=(10,10))\n",
    "plt.pie(promo_percentage, labels = promo_percentage.index, autopct='%1.1f%%')   \n",
    "plt.title('Promos distribution')"
   ]
  },
  {
   "cell_type": "code",
   "execution_count": 29,
   "metadata": {},
   "outputs": [
    {
     "data": {
      "image/png": "[encoded data removed]",
      "text/plain": [
       "<Figure size 1000x1000 with 1 Axes>"
      ]
     },
     "metadata": {},
     "output_type": "display_data"
    }
   ],
   "source": [
    "plt.figure(figsize=(10,10))\n",
    "plt.pie(promo_percentage, labels = promo_percentage.index, autopct='%1.1f%%')\n",
    "plt.title('Promo distribution')\n",
    "plt.show()"
   ]
  },
  {
   "cell_type": "markdown",
   "metadata": {},
   "source": [
    "## Numerical Columns"
   ]
  },
  {
   "cell_type": "code",
   "execution_count": 30,
   "metadata": {},
   "outputs": [
    {
     "name": "stdout",
     "output_type": "stream",
     "text": [
      "['customer_age', 'vendor_count', 'product_count', 'is_chain', 'first_order', 'last_order', 'CUI_American', 'CUI_Asian', 'CUI_Beverages', 'CUI_Cafe', 'CUI_Chicken Dishes', 'CUI_Chinese', 'CUI_Desserts', 'CUI_Healthy', 'CUI_Indian', 'CUI_Italian', 'CUI_Japanese', 'CUI_Noodle Dishes', 'CUI_OTHER', 'CUI_Street Food / Snacks', 'CUI_Thai', 'DOW_0', 'DOW_1', 'DOW_2', 'DOW_3', 'DOW_4', 'DOW_5', 'DOW_6', 'HR_0', 'HR_1', 'HR_2', 'HR_3', 'HR_4', 'HR_5', 'HR_6', 'HR_7', 'HR_8', 'HR_9', 'HR_10', 'HR_11', 'HR_12', 'HR_13', 'HR_14', 'HR_15', 'HR_16', 'HR_17', 'HR_18', 'HR_19', 'HR_20', 'HR_21', 'HR_22', 'HR_23', 'Total_Orders', 'avg_order_product_number']\n"
     ]
    }
   ],
   "source": [
    "numerical_columns = df.select_dtypes(include=['float64', 'int64']).columns.tolist()\n",
    "print(numerical_columns)"
   ]
  },
  {
   "cell_type": "markdown",
   "metadata": {},
   "source": [
    "### product_count\n",
    "Total number of products the customer has ordered."
   ]
  },
  {
   "cell_type": "code",
   "execution_count": 32,
   "metadata": {},
   "outputs": [
    {
     "data": {
      "text/plain": [
       "count    31875.000000\n",
       "mean         5.668424\n",
       "std          6.957933\n",
       "min          0.000000\n",
       "25%          2.000000\n",
       "50%          3.000000\n",
       "75%          7.000000\n",
       "max        269.000000\n",
       "Name: product_count, dtype: float64"
      ]
     },
     "execution_count": 32,
     "metadata": {},
     "output_type": "execute_result"
    }
   ],
   "source": [
    "df['product_count'].describe()"
   ]
  },
  {
   "cell_type": "code",
   "execution_count": 35,
   "metadata": {},
   "outputs": [
    {
     "data": {
      "text/plain": [
       "{'whiskers': [<matplotlib.lines.Line2D at 0x177360fb0>,\n",
       "  <matplotlib.lines.Line2D at 0x177361220>],\n",
       " 'caps': [<matplotlib.lines.Line2D at 0x177361550>,\n",
       "  <matplotlib.lines.Line2D at 0x177361850>],\n",
       " 'boxes': [<matplotlib.lines.Line2D at 0x177360d10>],\n",
       " 'medians': [<matplotlib.lines.Line2D at 0x177361a30>],\n",
       " 'fliers': [<matplotlib.lines.Line2D at 0x177361d60>],\n",
       " 'means': []}"
      ]
     },
     "execution_count": 35,
     "metadata": {},
     "output_type": "execute_result"
    },
    {
     "data": {
      "image/png": "[encoded data removed]",
      "text/plain": [
       "<Figure size 640x480 with 1 Axes>"
      ]
     },
     "metadata": {},
     "output_type": "display_data"
    }
   ],
   "source": [
    "plt.boxplot(df['product_count'], vert = False)"
   ]
  },
  {
   "cell_type": "markdown",
   "metadata": {},
   "source": [
    "### is_chain"
   ]
  },
  {
   "cell_type": "code",
   "execution_count": 22,
   "metadata": {},
   "outputs": [
    {
     "data": {
      "text/plain": [
       "count    31875.000000\n",
       "mean         2.819357\n",
       "std          3.977977\n",
       "min          0.000000\n",
       "25%          1.000000\n",
       "50%          2.000000\n",
       "75%          3.000000\n",
       "max         83.000000\n",
       "Name: is_chain, dtype: float64"
      ]
     },
     "execution_count": 22,
     "metadata": {},
     "output_type": "execute_result"
    }
   ],
   "source": [
    "df['is_chain'].describe()"
   ]
  },
  {
   "cell_type": "code",
   "execution_count": 36,
   "metadata": {},
   "outputs": [
    {
     "data": {
      "text/plain": [
       "Text(0.5, 1.0, 'is_chain')"
      ]
     },
     "execution_count": 36,
     "metadata": {},
     "output_type": "execute_result"
    },
    {
     "data": {
      "image/png": "[encoded data removed]",
      "text/plain": [
       "<Figure size 640x480 with 1 Axes>"
      ]
     },
     "metadata": {},
     "output_type": "display_data"
    }
   ],
   "source": [
    "plt.boxplot(df['is_chain'], vert = False)\n",
    "plt.title('is_chain')"
   ]
  },
  {
   "cell_type": "code",
   "execution_count": 24,
   "metadata": {},
   "outputs": [
    {
     "data": {
      "text/plain": [
       "customer_region     442\n",
       "customer_age        727\n",
       "first_order         106\n",
       "HR_0               1164\n",
       "dtype: int64"
      ]
     },
     "execution_count": 24,
     "metadata": {},
     "output_type": "execute_result"
    }
   ],
   "source": [
    "#check for missing values\n",
    "missing_values = df.isnull().sum()\n",
    "missing_values[missing_values > 0]"
   ]
  },
  {
   "cell_type": "markdown",
   "metadata": {},
   "source": [
    "FYI,there are missing values"
   ]
  },
  {
   "cell_type": "markdown",
   "metadata": {},
   "source": [
    "## Build New Features"
   ]
  },
  {
   "cell_type": "code",
   "execution_count": 159,
   "metadata": {},
   "outputs": [],
   "source": [
    "new_fetures_list = []\n",
    "# is there  a naming convention for new features?"
   ]
  },
  {
   "cell_type": "markdown",
   "metadata": {},
   "source": [
    "### used_promo"
   ]
  },
  {
   "cell_type": "code",
   "execution_count": 157,
   "metadata": {},
   "outputs": [],
   "source": [
    "df['used_promo']= df['last_promo'] != 'No_Promo'\n",
    "new_fetures_list.append(\"used_promo\")"
   ]
  },
  {
   "cell_type": "markdown",
   "metadata": {},
   "source": [
    "### Total Order Per Person"
   ]
  },
  {
   "cell_type": "code",
   "execution_count": 160,
   "metadata": {},
   "outputs": [],
   "source": [
    "DOW_col_sum = df[DOW_col].sum(axis=1)\n",
    "new_fetures_list.append(\"DOW_col_sum\")"
   ]
  },
  {
   "cell_type": "markdown",
   "metadata": {},
   "source": [
    "### How May Products per Order"
   ]
  },
  {
   "cell_type": "code",
   "execution_count": 161,
   "metadata": {},
   "outputs": [],
   "source": [
    "df['Product_by_Order'] = df['product_count'] /df['Total_Orders']\n",
    "new_fetures_list.append(\"Product_by_Order\")"
   ]
  },
  {
   "cell_type": "markdown",
   "metadata": {},
   "source": [
    "### delta_day_order\n",
    "shows the time passed beween the first order and the last order\n",
    "-- note:\n",
    "we could adjust the parameter by using the highest day for the last order in the dataframe as today"
   ]
  },
  {
   "cell_type": "code",
   "execution_count": 26,
   "metadata": {},
   "outputs": [],
   "source": [
    "\n",
    "df['delta_day_order'] = df['last_order'] - df['first_order'] + 1\n",
    "new_fetures_list.append('delta_day_order')"
   ]
  },
  {
   "cell_type": "markdown",
   "metadata": {},
   "source": [
    "### tot_value_cui\n",
    "shows the total amunt of money spent on the app across all options"
   ]
  },
  {
   "cell_type": "code",
   "execution_count": 27,
   "metadata": {},
   "outputs": [],
   "source": [
    "cui_columns = [col for col in df.columns if col.startswith('CUI')]\n",
    "df['tot_value_cui'] = df[cui_columns].sum(axis=1)\n",
    "new_fetures_list.append('tot_value_cui')"
   ]
  },
  {
   "cell_type": "markdown",
   "metadata": {},
   "source": [
    "### frequencies and averages\n",
    "more insightful informations about our customers habits"
   ]
  },
  {
   "cell_type": "code",
   "execution_count": 28,
   "metadata": {},
   "outputs": [],
   "source": [
    "df['order_freq'] = df['product_count'] / df['delta_day_order']\n",
    "df['value_freq'] = df['tot_value_cui'] / df['delta_day_order']\n",
    "df['avg_order_value'] = df['tot_value_cui'] / df['product_count']\n",
    "\n",
    "new_fetures_list.append('order_freq')\n",
    "new_fetures_list.append('value_freq')\n",
    "new_fetures_list.append('avg_order_value')"
   ]
  },
  {
   "cell_type": "code",
   "execution_count": 29,
   "metadata": {},
   "outputs": [],
   "source": [
    "df['avg_order_value'] = np.where(df['product_count'] != 0, df['tot_value_cui'] / df['product_count'], 0)"
   ]
  },
  {
   "cell_type": "markdown",
   "metadata": {},
   "source": [
    "### our new features"
   ]
  },
  {
   "cell_type": "code",
   "execution_count": 30,
   "metadata": {},
   "outputs": [
    {
     "data": {
      "text/html": [
       "<div>\n",
       "<style scoped>\n",
       "    .dataframe tbody tr th:only-of-type {\n",
       "        vertical-align: middle;\n",
       "    }\n",
       "\n",
       "    .dataframe tbody tr th {\n",
       "        vertical-align: top;\n",
       "    }\n",
       "\n",
       "    .dataframe thead th {\n",
       "        text-align: right;\n",
       "    }\n",
       "</style>\n",
       "<table border=\"1\" class=\"dataframe\">\n",
       "  <thead>\n",
       "    <tr style=\"text-align: right;\">\n",
       "      <th></th>\n",
       "      <th>delta_day_order</th>\n",
       "      <th>tot_value_cui</th>\n",
       "      <th>order_freq</th>\n",
       "      <th>value_freq</th>\n",
       "      <th>avg_order_value</th>\n",
       "    </tr>\n",
       "  </thead>\n",
       "  <tbody>\n",
       "    <tr>\n",
       "      <th>count</th>\n",
       "      <td>31769.000000</td>\n",
       "      <td>31875.000000</td>\n",
       "      <td>31769.000000</td>\n",
       "      <td>31769.000000</td>\n",
       "      <td>31875.000000</td>\n",
       "    </tr>\n",
       "    <tr>\n",
       "      <th>mean</th>\n",
       "      <td>36.414901</td>\n",
       "      <td>38.295857</td>\n",
       "      <td>0.470972</td>\n",
       "      <td>4.322951</td>\n",
       "      <td>7.536316</td>\n",
       "    </tr>\n",
       "    <tr>\n",
       "      <th>std</th>\n",
       "      <td>29.415668</td>\n",
       "      <td>46.410657</td>\n",
       "      <td>0.648714</td>\n",
       "      <td>7.995165</td>\n",
       "      <td>4.076761</td>\n",
       "    </tr>\n",
       "    <tr>\n",
       "      <th>min</th>\n",
       "      <td>1.000000</td>\n",
       "      <td>0.000000</td>\n",
       "      <td>0.000000</td>\n",
       "      <td>0.000000</td>\n",
       "      <td>0.000000</td>\n",
       "    </tr>\n",
       "    <tr>\n",
       "      <th>25%</th>\n",
       "      <td>4.000000</td>\n",
       "      <td>12.880000</td>\n",
       "      <td>0.093333</td>\n",
       "      <td>0.530833</td>\n",
       "      <td>4.092111</td>\n",
       "    </tr>\n",
       "    <tr>\n",
       "      <th>50%</th>\n",
       "      <td>35.000000</td>\n",
       "      <td>24.140000</td>\n",
       "      <td>0.171053</td>\n",
       "      <td>1.124000</td>\n",
       "      <td>6.905000</td>\n",
       "    </tr>\n",
       "    <tr>\n",
       "      <th>75%</th>\n",
       "      <td>63.000000</td>\n",
       "      <td>44.970000</td>\n",
       "      <td>0.666667</td>\n",
       "      <td>3.723810</td>\n",
       "      <td>10.125833</td>\n",
       "    </tr>\n",
       "    <tr>\n",
       "      <th>max</th>\n",
       "      <td>91.000000</td>\n",
       "      <td>1418.330000</td>\n",
       "      <td>14.000000</td>\n",
       "      <td>141.120000</td>\n",
       "      <td>24.390000</td>\n",
       "    </tr>\n",
       "  </tbody>\n",
       "</table>\n",
       "</div>"
      ],
      "text/plain": [
       "       delta_day_order  tot_value_cui    order_freq    value_freq  \\\n",
       "count     31769.000000   31875.000000  31769.000000  31769.000000   \n",
       "mean         36.414901      38.295857      0.470972      4.322951   \n",
       "std          29.415668      46.410657      0.648714      7.995165   \n",
       "min           1.000000       0.000000      0.000000      0.000000   \n",
       "25%           4.000000      12.880000      0.093333      0.530833   \n",
       "50%          35.000000      24.140000      0.171053      1.124000   \n",
       "75%          63.000000      44.970000      0.666667      3.723810   \n",
       "max          91.000000    1418.330000     14.000000    141.120000   \n",
       "\n",
       "       avg_order_value  \n",
       "count     31875.000000  \n",
       "mean          7.536316  \n",
       "std           4.076761  \n",
       "min           0.000000  \n",
       "25%           4.092111  \n",
       "50%           6.905000  \n",
       "75%          10.125833  \n",
       "max          24.390000  "
      ]
     },
     "execution_count": 30,
     "metadata": {},
     "output_type": "execute_result"
    }
   ],
   "source": [
    "df[new_fetures_list].describe ()"
   ]
  },
  {
   "cell_type": "code",
   "execution_count": 31,
   "metadata": {},
   "outputs": [
    {
     "data": {
      "text/plain": [
       "delta_day_order    106\n",
       "order_freq         106\n",
       "value_freq         106\n",
       "dtype: int64"
      ]
     },
     "execution_count": 31,
     "metadata": {},
     "output_type": "execute_result"
    }
   ],
   "source": [
    "#check for missing values\n",
    "missing_values = df[new_fetures_list].isnull().sum()\n",
    "missing_values[missing_values > 0]"
   ]
  },
  {
   "cell_type": "markdown",
   "metadata": {},
   "source": [
    "### Check if I made a mess"
   ]
  },
  {
   "cell_type": "code",
   "execution_count": 32,
   "metadata": {},
   "outputs": [
    {
     "data": {
      "text/html": [
       "<div>\n",
       "<style scoped>\n",
       "    .dataframe tbody tr th:only-of-type {\n",
       "        vertical-align: middle;\n",
       "    }\n",
       "\n",
       "    .dataframe tbody tr th {\n",
       "        vertical-align: top;\n",
       "    }\n",
       "\n",
       "    .dataframe thead th {\n",
       "        text-align: right;\n",
       "    }\n",
       "</style>\n",
       "<table border=\"1\" class=\"dataframe\">\n",
       "  <thead>\n",
       "    <tr style=\"text-align: right;\">\n",
       "      <th></th>\n",
       "      <th>0</th>\n",
       "      <th>1</th>\n",
       "      <th>2</th>\n",
       "    </tr>\n",
       "  </thead>\n",
       "  <tbody>\n",
       "    <tr>\n",
       "      <th>0</th>\n",
       "      <td>delta_day_order</td>\n",
       "      <td>106</td>\n",
       "      <td>0</td>\n",
       "    </tr>\n",
       "    <tr>\n",
       "      <th>1</th>\n",
       "      <td>tot_value_cui</td>\n",
       "      <td>0</td>\n",
       "      <td>0</td>\n",
       "    </tr>\n",
       "    <tr>\n",
       "      <th>2</th>\n",
       "      <td>order_freq</td>\n",
       "      <td>106</td>\n",
       "      <td>0</td>\n",
       "    </tr>\n",
       "    <tr>\n",
       "      <th>3</th>\n",
       "      <td>value_freq</td>\n",
       "      <td>106</td>\n",
       "      <td>0</td>\n",
       "    </tr>\n",
       "    <tr>\n",
       "      <th>4</th>\n",
       "      <td>avg_order_value</td>\n",
       "      <td>0</td>\n",
       "      <td>0</td>\n",
       "    </tr>\n",
       "  </tbody>\n",
       "</table>\n",
       "</div>"
      ],
      "text/plain": [
       "                 0    1  2\n",
       "0  delta_day_order  106  0\n",
       "1    tot_value_cui    0  0\n",
       "2       order_freq  106  0\n",
       "3       value_freq  106  0\n",
       "4  avg_order_value    0  0"
      ]
     },
     "execution_count": 32,
     "metadata": {},
     "output_type": "execute_result"
    }
   ],
   "source": [
    "nan_inf_counts_list = []\n",
    "\n",
    "for new_feture in new_fetures_list:\n",
    "    nan_count = df[new_feture].isna().sum()\n",
    "    inf_count = df[new_feture].isin([np.inf, -np.inf]).sum()\n",
    "    nan_inf_counts = {\n",
    "        'feature:': new_feture,\n",
    "        'nan_count': nan_count,\n",
    "        'inf_count': inf_count\n",
    "    }\n",
    "    \n",
    "    nan_inf_counts_list.append((new_feture, nan_count, inf_count))\n",
    "    \n",
    "df_naninf = pd.DataFrame( nan_inf_counts_list)\n",
    "df_naninf"
   ]
  },
  {
   "cell_type": "code",
   "execution_count": 33,
   "metadata": {},
   "outputs": [
    {
     "data": {
      "text/html": [
       "<div>\n",
       "<style scoped>\n",
       "    .dataframe tbody tr th:only-of-type {\n",
       "        vertical-align: middle;\n",
       "    }\n",
       "\n",
       "    .dataframe tbody tr th {\n",
       "        vertical-align: top;\n",
       "    }\n",
       "\n",
       "    .dataframe thead th {\n",
       "        text-align: right;\n",
       "    }\n",
       "</style>\n",
       "<table border=\"1\" class=\"dataframe\">\n",
       "  <thead>\n",
       "    <tr style=\"text-align: right;\">\n",
       "      <th></th>\n",
       "      <th>delta_day_order</th>\n",
       "      <th>tot_value_cui</th>\n",
       "      <th>order_freq</th>\n",
       "      <th>value_freq</th>\n",
       "      <th>avg_order_value</th>\n",
       "    </tr>\n",
       "  </thead>\n",
       "  <tbody>\n",
       "    <tr>\n",
       "      <th>count</th>\n",
       "      <td>31769.000000</td>\n",
       "      <td>31875.000000</td>\n",
       "      <td>31769.000000</td>\n",
       "      <td>31769.000000</td>\n",
       "      <td>31875.000000</td>\n",
       "    </tr>\n",
       "    <tr>\n",
       "      <th>mean</th>\n",
       "      <td>36.414901</td>\n",
       "      <td>38.295857</td>\n",
       "      <td>0.470972</td>\n",
       "      <td>4.322951</td>\n",
       "      <td>7.536316</td>\n",
       "    </tr>\n",
       "    <tr>\n",
       "      <th>std</th>\n",
       "      <td>29.415668</td>\n",
       "      <td>46.410657</td>\n",
       "      <td>0.648714</td>\n",
       "      <td>7.995165</td>\n",
       "      <td>4.076761</td>\n",
       "    </tr>\n",
       "    <tr>\n",
       "      <th>min</th>\n",
       "      <td>1.000000</td>\n",
       "      <td>0.000000</td>\n",
       "      <td>0.000000</td>\n",
       "      <td>0.000000</td>\n",
       "      <td>0.000000</td>\n",
       "    </tr>\n",
       "    <tr>\n",
       "      <th>25%</th>\n",
       "      <td>4.000000</td>\n",
       "      <td>12.880000</td>\n",
       "      <td>0.093333</td>\n",
       "      <td>0.530833</td>\n",
       "      <td>4.092111</td>\n",
       "    </tr>\n",
       "    <tr>\n",
       "      <th>50%</th>\n",
       "      <td>35.000000</td>\n",
       "      <td>24.140000</td>\n",
       "      <td>0.171053</td>\n",
       "      <td>1.124000</td>\n",
       "      <td>6.905000</td>\n",
       "    </tr>\n",
       "    <tr>\n",
       "      <th>75%</th>\n",
       "      <td>63.000000</td>\n",
       "      <td>44.970000</td>\n",
       "      <td>0.666667</td>\n",
       "      <td>3.723810</td>\n",
       "      <td>10.125833</td>\n",
       "    </tr>\n",
       "    <tr>\n",
       "      <th>max</th>\n",
       "      <td>91.000000</td>\n",
       "      <td>1418.330000</td>\n",
       "      <td>14.000000</td>\n",
       "      <td>141.120000</td>\n",
       "      <td>24.390000</td>\n",
       "    </tr>\n",
       "  </tbody>\n",
       "</table>\n",
       "</div>"
      ],
      "text/plain": [
       "       delta_day_order  tot_value_cui    order_freq    value_freq  \\\n",
       "count     31769.000000   31875.000000  31769.000000  31769.000000   \n",
       "mean         36.414901      38.295857      0.470972      4.322951   \n",
       "std          29.415668      46.410657      0.648714      7.995165   \n",
       "min           1.000000       0.000000      0.000000      0.000000   \n",
       "25%           4.000000      12.880000      0.093333      0.530833   \n",
       "50%          35.000000      24.140000      0.171053      1.124000   \n",
       "75%          63.000000      44.970000      0.666667      3.723810   \n",
       "max          91.000000    1418.330000     14.000000    141.120000   \n",
       "\n",
       "       avg_order_value  \n",
       "count     31875.000000  \n",
       "mean          7.536316  \n",
       "std           4.076761  \n",
       "min           0.000000  \n",
       "25%           4.092111  \n",
       "50%           6.905000  \n",
       "75%          10.125833  \n",
       "max          24.390000  "
      ]
     },
     "execution_count": 33,
     "metadata": {},
     "output_type": "execute_result"
    }
   ],
   "source": [
    "df[new_fetures_list].describe()"
   ]
  }
 ],
 "metadata": {
  "kernelspec": {
   "display_name": "DataMinig",
   "language": "python",
   "name": "python3"
  },
  "language_info": {
   "codemirror_mode": {
    "name": "ipython",
    "version": 3
   },
   "file_extension": ".py",
   "mimetype": "text/x-python",
   "name": "python",
   "nbconvert_exporter": "python",
   "pygments_lexer": "ipython3",
   "version": "3.12.2"
  }
 },
 "nbformat": 4,
 "nbformat_minor": 2
}
